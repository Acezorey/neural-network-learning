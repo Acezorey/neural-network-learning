{
 "cells": [
  {
   "cell_type": "markdown",
   "metadata": {},
   "source": [
    "# Neural Network Learning"
   ]
  },
  {
   "cell_type": "markdown",
   "metadata": {},
   "source": [
    "Initial imports"
   ]
  },
  {
   "cell_type": "code",
   "execution_count": 19,
   "metadata": {},
   "outputs": [],
   "source": [
    "import numpy as np\n",
    "import nnfs\n",
    "import matplotlib.pyplot as plt\n",
    "from nnfs.datasets import spiral_data\n",
    "from nnfs.datasets import sine_data\n",
    "nnfs.init()"
   ]
  },
  {
   "cell_type": "markdown",
   "metadata": {},
   "source": [
    "Neural network layer class"
   ]
  },
  {
   "cell_type": "code",
   "execution_count": 20,
   "metadata": {},
   "outputs": [],
   "source": [
    "class Layer_Dense:\n",
    "    \n",
    "    # Neuron initialization\n",
    "    def __init__(self, n_inputs, n_neurons, weight_regularizer_l1 = 0, weight_regularizer_l2 = 0, bias_regularizer_l1 = 0, bias_regularizer_l2 = 0):\n",
    "        # Initialize weights and biases\n",
    "        self.weights = 0.01 * np.random.randn(n_inputs, n_neurons)\n",
    "        self.biases = np.zeros((1, n_neurons))\n",
    "        # Set regularization strength / Lambda hyperperameters for penalties\n",
    "        self.weight_regularizer_l1 = weight_regularizer_l1 \n",
    "        self.weight_regularizer_l2 = weight_regularizer_l2 \n",
    "        self.bias_regularizer_l1 = bias_regularizer_l1 \n",
    "        self.bias_regularizer_l2 = bias_regularizer_l2 \n",
    "\n",
    "    # Neuron forward pass for calculations\n",
    "    def forward(self, inputs):\n",
    "        self.inputs = inputs\n",
    "        self.output = np.dot(inputs, self.weights) + self.biases\n",
    "\n",
    "    # Backward pass for derivative backpropagation\n",
    "    def backward(self, dvalues):\n",
    "        self.dweights = np.dot(self.inputs.T, dvalues)\n",
    "        self.dbiases = np.sum(dvalues, axis=0, keepdims=True)\n",
    "\n",
    "        # Gradients on regularization\n",
    "        # L1 on weights\n",
    "        if self.weight_regularizer_l1 > 0:\n",
    "            dL1 = np.ones_like(self.weights)\n",
    "            dL1[self.weights < 0] = -1\n",
    "            self.dweights += self.weight_regularizer_l1 * dL1\n",
    "        # L2 on weights\n",
    "        if self.weight_regularizer_l2 > 0:\n",
    "            self.dweights += 2 * self.weight_regularizer_l2 * self.weights\n",
    "        # L1 on biases\n",
    "        if self.bias_regularizer_l1 > 0:\n",
    "            dL1 = np.ones_like(self.biases)\n",
    "            dL1[self.biases < 0] = -1\n",
    "            self.dbiases += self.bias_regularizer_l1 * dL1\n",
    "        # L2 on biases\n",
    "        if self.bias_regularizer_l2 > 0:\n",
    "            self.dbiases += 2 * self.bias_regularizer_l2 * self.biases\n",
    "        \n",
    "        # Gradient on values\n",
    "        self.dinputs = np.dot(dvalues, self.weights.T)"
   ]
  },
  {
   "cell_type": "markdown",
   "metadata": {},
   "source": [
    "Rectified Linear Unit (ReLU) activation function"
   ]
  },
  {
   "cell_type": "code",
   "execution_count": 21,
   "metadata": {},
   "outputs": [],
   "source": [
    "class Activation_ReLU:\n",
    "    \n",
    "    # Forward pass for output calculations\n",
    "    def forward(self, inputs):\n",
    "        self.inputs = inputs\n",
    "        self.output = np.maximum(0, inputs)\n",
    "\n",
    "    # Backward pass for derivative backpropagation\n",
    "    def backward(self, dvalues):\n",
    "        self.dinputs = dvalues.copy()\n",
    "        self.dinputs[self.inputs <= 0] = 0"
   ]
  },
  {
   "cell_type": "markdown",
   "metadata": {},
   "source": [
    "Softmax Activation function"
   ]
  },
  {
   "cell_type": "code",
   "execution_count": 22,
   "metadata": {},
   "outputs": [],
   "source": [
    "class Activation_Softmax:\n",
    "    \n",
    "    # Forward pass for output\n",
    "    def forward(self, inputs):\n",
    "        exp_values = np.exp(inputs - np.max(inputs, axis=1, keepdims=True))\n",
    "        probabilities = exp_values / np.sum(exp_values, axis=1, keepdims=True)\n",
    "        self.output = probabilities\n",
    "\n",
    "    # Backward pass for derivative backpropagation\n",
    "    def backward(self, dvalues):\n",
    "        self.dinputs = np.empty_like(dvalues)\n",
    "\n",
    "        for index, (single_output, single_dvalues) in enumerate(zip(self.output, dvalues)):\n",
    "            single_output = single_output.reshape(-1, 1)\n",
    "            jacobian_matrix = np.diagflat(single_output) - np.dot(single_output, single_output.T)\n",
    "            self.dinputs[index] = np.dot(jacobian_matrix, single_dvalues)"
   ]
  },
  {
   "cell_type": "markdown",
   "metadata": {},
   "source": [
    "Sigmoid Activation function"
   ]
  },
  {
   "cell_type": "code",
   "execution_count": 23,
   "metadata": {},
   "outputs": [],
   "source": [
    "class Activation_Sigmoid:\n",
    "\n",
    "    def forward(self, inputs):\n",
    "        self.inputs = inputs\n",
    "        self.output = 1 / (1 + np.exp(-inputs))\n",
    "\n",
    "    def backward(self, dvalues):\n",
    "        self.dinputs = dvalues * (1 - self.output) * self.output"
   ]
  },
  {
   "cell_type": "markdown",
   "metadata": {},
   "source": [
    "Linear Activation function"
   ]
  },
  {
   "cell_type": "code",
   "execution_count": 24,
   "metadata": {},
   "outputs": [],
   "source": [
    "class Activation_Linear:\n",
    "\n",
    "    def forward(self, inputs):\n",
    "        self.inputs = inputs\n",
    "        self.output = inputs\n",
    "\n",
    "    def backward(self, dvalues):\n",
    "        self.dinputs = dvalues.copy()"
   ]
  },
  {
   "cell_type": "markdown",
   "metadata": {},
   "source": [
    "Loss parent class"
   ]
  },
  {
   "cell_type": "code",
   "execution_count": 25,
   "metadata": {},
   "outputs": [],
   "source": [
    "class Loss:\n",
    "    \n",
    "    # Regularization loss calculation\n",
    "    def regularization_loss(self, layer):\n",
    "        regularization_loss = 0\n",
    "\n",
    "        if layer.weight_regularizer_l1 > 0:\n",
    "            regularization_loss += layer.weight_regularizer_l1 * np.sum(np.abs(layer.weights))\n",
    "        if layer.weight_regularizer_l2 > 0:\n",
    "            regularization_loss += layer.weight_regularizer_l2 * np.sum(layer.weights * layer.weights)\n",
    "\n",
    "        if layer.bias_regularizer_l1 > 0:\n",
    "            regularization_loss += layer.bias_regularizer_l1 * np.sum(np.abs(layer.biases))\n",
    "        if layer.bias_regularizer_l2 > 0:\n",
    "            regularization_loss += layer.bias_regularizer_l2 * np.sum(layer.biases * layer.biases)\n",
    "\n",
    "        return regularization_loss\n",
    "\n",
    "    def calculate(self, output, y):\n",
    "        sample_losses = self.forward(output, y)\n",
    "        data_loss = np.mean(sample_losses)\n",
    "        return data_loss"
   ]
  },
  {
   "cell_type": "markdown",
   "metadata": {},
   "source": [
    "Cross Entropy Loss function"
   ]
  },
  {
   "cell_type": "code",
   "execution_count": 26,
   "metadata": {},
   "outputs": [],
   "source": [
    "class Loss_CategorialCrossentropy(Loss):\n",
    "\n",
    "    # Forward pass for loss calculation output\n",
    "    def forward(self, y_pred, y_true):\n",
    "        samples = len(y_pred)\n",
    "        y_pred_clipped = np.clip(y_pred, 1e-7, 1 - 1e-7)\n",
    "        \n",
    "        if len(y_true.shape) == 1:\n",
    "            correct_confidences = y_pred_clipped[range(samples), y_true]\n",
    "        elif len(y_true.shape) == 2:\n",
    "            correct_confidences = np.sum(y_pred_clipped * y_true, axis = 1)\n",
    "        \n",
    "        negative_log_likelihoods = -np.log(correct_confidences)\n",
    "        return negative_log_likelihoods\n",
    "    \n",
    "    # Backward pass for derivative backpropagation\n",
    "    def backward(self, dvalues, y_true):\n",
    "        samples = len(dvalues)\n",
    "        labels = len(dvalues[0])\n",
    "\n",
    "        if len(y_true.shape) == 1:\n",
    "            y_true = np.eye(labels)[y_true]\n",
    "        \n",
    "        self.dinputs = -y_true / dvalues\n",
    "        self.dinputs = self.dinputs / samples"
   ]
  },
  {
   "cell_type": "markdown",
   "metadata": {},
   "source": [
    "Combined softmax activation and cross entropy loss for faster backward step"
   ]
  },
  {
   "cell_type": "code",
   "execution_count": 27,
   "metadata": {},
   "outputs": [],
   "source": [
    "class Activation_Softmax_Loss_CategorialCrossentropy():\n",
    "\n",
    "\n",
    "    def __init__(self):\n",
    "        self.activation = Activation_Softmax()\n",
    "        self.loss = Loss_CategorialCrossentropy()\n",
    "\n",
    "    \n",
    "    def forward(self, inputs, y_true):\n",
    "        self.activation.forward(inputs)\n",
    "        self.output = self.activation.output\n",
    "        return self.loss.calculate(self.output, y_true)\n",
    "    \n",
    "\n",
    "    def backward(self, dvalues, y_true):\n",
    "        samples = len(dvalues)\n",
    "\n",
    "        if len(y_true.shape) == 2:\n",
    "            y_true = np.argmax(y_true, axis=1)\n",
    "        \n",
    "        self.dinputs = dvalues.copy()\n",
    "        self.dinputs[range(samples), y_true] -= 1\n",
    "        self.dinputs = self.dinputs / samples"
   ]
  },
  {
   "cell_type": "markdown",
   "metadata": {},
   "source": [
    "Binary Cross-Entropy Loss Class"
   ]
  },
  {
   "cell_type": "code",
   "execution_count": 28,
   "metadata": {},
   "outputs": [],
   "source": [
    "class Loss_BinaryCrossentropy(Loss):\n",
    "\n",
    "    def forward(self, y_pred, y_true):\n",
    "        y_pred_clipped = np.clip(y_pred, 1e-7, 1 - 1e-7)\n",
    "        sample_losses = -(y_true * np.log(y_pred_clipped) + (1 - y_true) * np.log(1 - y_pred_clipped))\n",
    "        sample_losses = np.mean(sample_losses, axis=-1)\n",
    "        return sample_losses\n",
    "    \n",
    "    def backward(self, dvalues, y_true):\n",
    "        samples = len(dvalues)\n",
    "        outputs = len(dvalues[0])\n",
    "        clipped_dvalues = np.clip(dvalues, 1e-7, 1 - 1e-7)\n",
    "        self.dinputs = -(y_true / clipped_dvalues - (1 - y_true) / (1 - clipped_dvalues)) / outputs\n",
    "        self.dinputs = self.dinputs / samples"
   ]
  },
  {
   "cell_type": "markdown",
   "metadata": {},
   "source": [
    "Mean Squared Error Loss Class"
   ]
  },
  {
   "cell_type": "code",
   "execution_count": 29,
   "metadata": {},
   "outputs": [],
   "source": [
    "class Loss_MeanSquaredError(Loss):\n",
    "\n",
    "    def forward(self, y_pred, y_true):\n",
    "        sample_losses = np.mean((y_true - y_pred) ** 2, axis = -1)\n",
    "        return sample_losses\n",
    "    \n",
    "    def backward(self, dvalues, y_true):\n",
    "        samples = len(dvalues)\n",
    "        outputs = len(dvalues[0])\n",
    "        self.dinputs = -2 * (y_true - dvalues) / outputs\n",
    "        self.dinputs = self.dinputs / samples"
   ]
  },
  {
   "cell_type": "markdown",
   "metadata": {},
   "source": [
    "Mean Absolute Error Loss"
   ]
  },
  {
   "cell_type": "code",
   "execution_count": 30,
   "metadata": {},
   "outputs": [],
   "source": [
    "class Loss_MeanAbsoluteError(Loss):\n",
    "\n",
    "    def forward(self, y_pred, y_true):\n",
    "        sample_losses = np.mean(np.abs(y_true - y_pred), axis = -1)\n",
    "        return sample_losses\n",
    "    \n",
    "    def backward(self, dvalues, y_true):\n",
    "        samples = len(dvalues)\n",
    "        outputs = len(dvalues[0])\n",
    "        self.dinputs = np.sign(y_true - dvalues) / outputs\n",
    "        self.dinputs = self.dinputs / samples"
   ]
  },
  {
   "cell_type": "markdown",
   "metadata": {},
   "source": [
    "Stochastic Gradient Descent with Momentum Optimizer Class"
   ]
  },
  {
   "cell_type": "code",
   "execution_count": 31,
   "metadata": {},
   "outputs": [],
   "source": [
    "class Optimizer_SGD:\n",
    "\n",
    "    # Gradient descent optimizer initialization\n",
    "    def __init__(self, learning_rate = 1.0, decay = 0, momentum = 0):\n",
    "        self.learning_rate = learning_rate\n",
    "        self.current_learning_rate = learning_rate\n",
    "        self.decay = decay\n",
    "        self.iterations = 0\n",
    "        self.momentum = momentum\n",
    "\n",
    "    # Learning rate decay\n",
    "    def pre_update_params(self):\n",
    "        if self.decay:\n",
    "            self.current_learning_rate = self.learning_rate * (1 / (1 + self.decay * self.iterations))\n",
    "\n",
    "\n",
    "    # Parameter updater\n",
    "    def update_params(self, layer):\n",
    "        if self.momentum:\n",
    "\n",
    "            if not hasattr(layer, 'weight_momentums'):\n",
    "                layer.weight_momentums = np.zeros_like(layer.weights)\n",
    "                layer.bias_momentums = np.zeros_like(layer.biases)\n",
    "\n",
    "            weight_updates = self.momentum * layer.weight_momentums - self.current_learning_rate * layer.dweights\n",
    "            layer.weight_momentums = weight_updates\n",
    "\n",
    "            bias_updates = self.momentum * layer.bias_momentums - self.current_learning_rate * layer.dbiases\n",
    "            layer.bias_momentums = bias_updates\n",
    "        else:\n",
    "            weight_updates = -self.current_learning_rate * layer.dweights\n",
    "            bias_updates = -self.current_learning_rate * layer.dbiases\n",
    "\n",
    "        layer.weights += weight_updates\n",
    "        layer.biases += bias_updates\n",
    "\n",
    "    \n",
    "    def post_update_params(self):\n",
    "        self.iterations += 1"
   ]
  },
  {
   "cell_type": "markdown",
   "metadata": {},
   "source": [
    "Adagrad Optimizer Class"
   ]
  },
  {
   "cell_type": "code",
   "execution_count": 32,
   "metadata": {},
   "outputs": [],
   "source": [
    "class Optimizer_Adagrad:\n",
    "\n",
    "\n",
    "    def __init__(self, learning_rate = 1, decay = 0, epsilon = 1e-7):\n",
    "        self.learning_rate = learning_rate\n",
    "        self.current_learning_rate = learning_rate\n",
    "        self.decay = decay\n",
    "        self.iterations = 0\n",
    "        self.epsilon = epsilon\n",
    "\n",
    "    \n",
    "    def pre_update_params(self):\n",
    "        if self.decay:\n",
    "            self.current_learning_rate = self.learning_rate * (1 / (1 + self.decay * self.iterations))\n",
    "\n",
    "\n",
    "    def update_params(self, layer):\n",
    "        if not hasattr(layer, 'weight_cache'):\n",
    "            layer.weight_cache = np.zeros_like(layer.weights)\n",
    "            layer.bias_cache = np.zeros_like(layer.biases)\n",
    "\n",
    "        layer.weight_cache += layer.dweights ** 2\n",
    "\n",
    "        layer.bias_cache += layer.dbiases ** 2\n",
    "\n",
    "        layer.weights += -self.current_learning_rate * layer.dweights / (np.sqrt(layer.weight_cache) + self.epsilon)\n",
    "\n",
    "        layer.biases += -self.current_learning_rate * layer.dbiases / (np.sqrt(layer.bias_cache) + self.epsilon)\n",
    "\n",
    "    \n",
    "    def post_update_params(self):\n",
    "        self.iterations += 1"
   ]
  },
  {
   "cell_type": "markdown",
   "metadata": {},
   "source": [
    "RMSProp Optimizer Class"
   ]
  },
  {
   "cell_type": "code",
   "execution_count": 33,
   "metadata": {},
   "outputs": [],
   "source": [
    "class Optimizer_RMSprop:\n",
    "\n",
    "\n",
    "    def __init__(self, learning_rate = 0.001, decay = 0, epsilon = 1e-7, rho = 0.9):\n",
    "        self.learning_rate = learning_rate\n",
    "        self.current_learning_rate = learning_rate\n",
    "        self.decay = decay\n",
    "        self.iterations = 0\n",
    "        self.epsilon = epsilon\n",
    "        self.rho = rho\n",
    "\n",
    "\n",
    "    def pre_update_params(self):\n",
    "        if self.decay:\n",
    "            self.current_learning_rate = self.learning_rate * (1 / (1 + self.decay * self.iterations))\n",
    "\n",
    "\n",
    "    def update_params(self, layer):\n",
    "        if not hasattr(layer, 'weight_cache'):\n",
    "            layer.weight_cache = np.zeros_like(layer.weights)\n",
    "            layer.bias_cache = np.zeros_like(layer.biases)\n",
    "\n",
    "        layer.weight_cache = self.rho * layer.weight_cache + (1 - self.rho) * layer.dweights ** 2\n",
    "        layer.bias_cache = self.rho * layer.bias_cache + (1 - self.rho) * layer.dbiases ** 2\n",
    "\n",
    "        layer.weights += -self.current_learning_rate *  layer.dweights / (np.sqrt(layer.weight_cache) + self.epsilon) \n",
    "        layer.biases += -self.current_learning_rate *  layer.dbiases /  (np.sqrt(layer.bias_cache) + self.epsilon) \n",
    "\n",
    "    \n",
    "    def post_update_params(self):\n",
    "        self.iterations += 1"
   ]
  },
  {
   "cell_type": "markdown",
   "metadata": {},
   "source": [
    "Adam (Adaptive Momentum) Optimizer Class"
   ]
  },
  {
   "cell_type": "code",
   "execution_count": 34,
   "metadata": {},
   "outputs": [],
   "source": [
    "class Optimizer_Adam:\n",
    "\n",
    "\n",
    "    def __init__(self, learning_rate = 0.001, decay = 0, epsilon = 1e-7, beta_1 = 0.9, beta_2 = 0.999):\n",
    "        self.learning_rate = learning_rate \n",
    "        self.current_learning_rate = learning_rate \n",
    "        self.decay = decay \n",
    "        self.iterations = 0 \n",
    "        self.epsilon = epsilon \n",
    "        self.beta_1 = beta_1 \n",
    "        self.beta_2 = beta_2 \n",
    "\n",
    "\n",
    "    def pre_update_params(self):\n",
    "        if self.decay:\n",
    "            self.current_learning_rate = self.learning_rate * (1 / (1 + self.decay * self.iterations))\n",
    "\n",
    "    \n",
    "    def update_params(self, layer):\n",
    "        if not hasattr(layer, 'weight_cache'):\n",
    "            layer.weight_momentums = np.zeros_like(layer.weights)\n",
    "            layer.weight_cache = np.zeros_like(layer.weights)\n",
    "            layer.bias_momentums = np.zeros_like(layer.biases)\n",
    "            layer.bias_cache = np.zeros_like(layer.biases)\n",
    "\n",
    "        layer.weight_momentums = self.beta_1 * layer.weight_momentums + (1 - self.beta_1) * layer.dweights\n",
    "        layer.bias_momentums = self.beta_1 * layer.bias_momentums + (1 - self.beta_1) * layer.dbiases\n",
    "\n",
    "        weight_momentums_corrected = layer.weight_momentums / (1 - self.beta_1 ** (self.iterations + 1))\n",
    "        bias_momentums_corrected = layer.bias_momentums / (1 - self.beta_1 ** (self.iterations + 1))\n",
    "\n",
    "        layer.weight_cache = self.beta_2 * layer.weight_cache + (1 - self.beta_2) * layer.dweights ** 2\n",
    "        layer.bias_cache = self.beta_2 * layer.bias_cache + (1 - self.beta_2) * layer.dbiases ** 2\n",
    "\n",
    "        weight_cache_corrected = layer.weight_cache / (1 - self.beta_2 ** (self.iterations + 1))\n",
    "        bias_cache_corrected = layer.bias_cache / (1 - self.beta_2 ** (self.iterations + 1))\n",
    "\n",
    "        layer.weights += -self.current_learning_rate * weight_momentums_corrected / (np.sqrt(weight_cache_corrected) + self.epsilon)\n",
    "        layer.biases += -self.current_learning_rate * bias_momentums_corrected / (np.sqrt(bias_cache_corrected) + self.epsilon)\n",
    "\n",
    "\n",
    "    def post_update_params(self):\n",
    "        self.iterations += 1"
   ]
  },
  {
   "cell_type": "markdown",
   "metadata": {},
   "source": [
    "Dropout Layer"
   ]
  },
  {
   "cell_type": "code",
   "execution_count": 35,
   "metadata": {},
   "outputs": [],
   "source": [
    "class Layer_Dropout:\n",
    "    \n",
    "    def __init__(self, rate):\n",
    "        self.rate = 1 - rate\n",
    "\n",
    "    def forward(self, inputs):\n",
    "        self.inputs = inputs\n",
    "        self.binary_mask = np.random.binomial(1, self.rate, size=inputs.shape) / self.rate\n",
    "        self.output = inputs * self.binary_mask\n",
    "\n",
    "    def backward(self, dvalues):\n",
    "        self.dinputs = dvalues * self.binary_mask"
   ]
  },
  {
   "cell_type": "markdown",
   "metadata": {},
   "source": [
    "Neural Network Model Object Class"
   ]
  },
  {
   "cell_type": "code",
   "execution_count": null,
   "metadata": {},
   "outputs": [],
   "source": [
    "class Model:\n",
    "\n",
    "    # Model initializer\n",
    "    def __init__(self):\n",
    "        self.layers = []\n",
    "\n",
    "    # Adds layers\n",
    "    def add(self, layer):\n",
    "        self.layers.append(layer)\n",
    "\n",
    "    # Sets the loss and optimizer functions and parameters\n",
    "    def set(self, *, loss, optimizer):\n",
    "        self.loss = loss\n",
    "        self.optimizer = optimizer\n",
    "\n",
    "    # Trains the model\n",
    "    def train(self, X, y, *, epochs=1, print_every=1):\n",
    "        for epoch in range(1, epochs+1):\n",
    "            pass"
   ]
  },
  {
   "cell_type": "markdown",
   "metadata": {},
   "source": [
    "Model Training"
   ]
  },
  {
   "cell_type": "code",
   "execution_count": 38,
   "metadata": {},
   "outputs": [
    {
     "name": "stdout",
     "output_type": "stream",
     "text": [
      "epoch: 0, acc: 0.002, loss: 0.500 (data_loss: 0.500, reg_loss: 0.000), lr: 0.001\n",
      "epoch: 100, acc: 0.004, loss: 0.164 (data_loss: 0.164, reg_loss: 0.000), lr: 0.001\n",
      "epoch: 200, acc: 0.006, loss: 0.111 (data_loss: 0.111, reg_loss: 0.000), lr: 0.001\n",
      "epoch: 300, acc: 0.005, loss: 0.093 (data_loss: 0.093, reg_loss: 0.000), lr: 0.001\n",
      "epoch: 400, acc: 0.007, loss: 0.073 (data_loss: 0.073, reg_loss: 0.000), lr: 0.001\n",
      "epoch: 500, acc: 0.011, loss: 0.058 (data_loss: 0.058, reg_loss: 0.000), lr: 0.001\n",
      "epoch: 600, acc: 0.082, loss: 0.039 (data_loss: 0.039, reg_loss: 0.000), lr: 0.001\n",
      "epoch: 700, acc: 0.161, loss: 0.020 (data_loss: 0.020, reg_loss: 0.000), lr: 0.001\n",
      "epoch: 800, acc: 0.161, loss: 0.009 (data_loss: 0.009, reg_loss: 0.000), lr: 0.001\n",
      "epoch: 900, acc: 0.236, loss: 0.004 (data_loss: 0.004, reg_loss: 0.000), lr: 0.001\n",
      "epoch: 1000, acc: 0.363, loss: 0.002 (data_loss: 0.002, reg_loss: 0.000), lr: 0.001\n",
      "epoch: 1100, acc: 0.526, loss: 0.001 (data_loss: 0.001, reg_loss: 0.000), lr: 0.001\n",
      "epoch: 1200, acc: 0.553, loss: 0.001 (data_loss: 0.001, reg_loss: 0.000), lr: 0.001\n",
      "epoch: 1300, acc: 0.621, loss: 0.000 (data_loss: 0.000, reg_loss: 0.000), lr: 0.001\n",
      "epoch: 1400, acc: 0.687, loss: 0.000 (data_loss: 0.000, reg_loss: 0.000), lr: 0.001\n",
      "epoch: 1500, acc: 0.718, loss: 0.000 (data_loss: 0.000, reg_loss: 0.000), lr: 0.001\n",
      "epoch: 1600, acc: 0.728, loss: 0.000 (data_loss: 0.000, reg_loss: 0.000), lr: 0.001\n",
      "epoch: 1700, acc: 0.117, loss: 0.000 (data_loss: 0.000, reg_loss: 0.000), lr: 0.001\n",
      "epoch: 1800, acc: 0.756, loss: 0.000 (data_loss: 0.000, reg_loss: 0.000), lr: 0.001\n",
      "epoch: 1900, acc: 0.701, loss: 0.000 (data_loss: 0.000, reg_loss: 0.000), lr: 0.001\n",
      "epoch: 2000, acc: 0.788, loss: 0.000 (data_loss: 0.000, reg_loss: 0.000), lr: 0.001\n",
      "epoch: 2100, acc: 0.196, loss: 0.000 (data_loss: 0.000, reg_loss: 0.000), lr: 0.001\n",
      "epoch: 2200, acc: 0.811, loss: 0.000 (data_loss: 0.000, reg_loss: 0.000), lr: 0.001\n",
      "epoch: 2300, acc: 0.278, loss: 0.000 (data_loss: 0.000, reg_loss: 0.000), lr: 0.001\n",
      "epoch: 2400, acc: 0.834, loss: 0.000 (data_loss: 0.000, reg_loss: 0.000), lr: 0.001\n",
      "epoch: 2500, acc: 0.842, loss: 0.000 (data_loss: 0.000, reg_loss: 0.000), lr: 0.001\n",
      "epoch: 2600, acc: 0.565, loss: 0.000 (data_loss: 0.000, reg_loss: 0.000), lr: 0.001\n",
      "epoch: 2700, acc: 0.860, loss: 0.000 (data_loss: 0.000, reg_loss: 0.000), lr: 0.001\n",
      "epoch: 2800, acc: 0.867, loss: 0.000 (data_loss: 0.000, reg_loss: 0.000), lr: 0.001\n",
      "epoch: 2900, acc: 0.872, loss: 0.000 (data_loss: 0.000, reg_loss: 0.000), lr: 0.001\n",
      "epoch: 3000, acc: 0.883, loss: 0.000 (data_loss: 0.000, reg_loss: 0.000), lr: 0.001\n",
      "epoch: 3100, acc: 0.526, loss: 0.000 (data_loss: 0.000, reg_loss: 0.000), lr: 0.001\n",
      "epoch: 3200, acc: 0.897, loss: 0.000 (data_loss: 0.000, reg_loss: 0.000), lr: 0.001\n",
      "epoch: 3300, acc: 0.907, loss: 0.000 (data_loss: 0.000, reg_loss: 0.000), lr: 0.001\n",
      "epoch: 3400, acc: 0.914, loss: 0.000 (data_loss: 0.000, reg_loss: 0.000), lr: 0.001\n",
      "epoch: 3500, acc: 0.919, loss: 0.000 (data_loss: 0.000, reg_loss: 0.000), lr: 0.001\n",
      "epoch: 3600, acc: 0.815, loss: 0.000 (data_loss: 0.000, reg_loss: 0.000), lr: 0.001\n",
      "epoch: 3700, acc: 0.940, loss: 0.000 (data_loss: 0.000, reg_loss: 0.000), lr: 0.001\n",
      "epoch: 3800, acc: 0.945, loss: 0.000 (data_loss: 0.000, reg_loss: 0.000), lr: 0.001\n",
      "epoch: 3900, acc: 0.944, loss: 0.000 (data_loss: 0.000, reg_loss: 0.000), lr: 0.001\n",
      "epoch: 4000, acc: 0.954, loss: 0.000 (data_loss: 0.000, reg_loss: 0.000), lr: 0.001\n",
      "epoch: 4100, acc: 0.942, loss: 0.000 (data_loss: 0.000, reg_loss: 0.000), lr: 0.001\n",
      "epoch: 4200, acc: 0.966, loss: 0.000 (data_loss: 0.000, reg_loss: 0.000), lr: 0.001\n",
      "epoch: 4300, acc: 0.965, loss: 0.000 (data_loss: 0.000, reg_loss: 0.000), lr: 0.001\n",
      "epoch: 4400, acc: 0.828, loss: 0.000 (data_loss: 0.000, reg_loss: 0.000), lr: 0.001\n",
      "epoch: 4500, acc: 0.968, loss: 0.000 (data_loss: 0.000, reg_loss: 0.000), lr: 0.001\n",
      "epoch: 4600, acc: 0.973, loss: 0.000 (data_loss: 0.000, reg_loss: 0.000), lr: 0.001\n",
      "epoch: 4700, acc: 0.970, loss: 0.000 (data_loss: 0.000, reg_loss: 0.000), lr: 0.001\n",
      "epoch: 4800, acc: 0.971, loss: 0.000 (data_loss: 0.000, reg_loss: 0.000), lr: 0.001\n",
      "epoch: 4900, acc: 0.170, loss: 0.000 (data_loss: 0.000, reg_loss: 0.000), lr: 0.001\n",
      "epoch: 5000, acc: 0.975, loss: 0.000 (data_loss: 0.000, reg_loss: 0.000), lr: 0.001\n",
      "epoch: 5100, acc: 0.975, loss: 0.000 (data_loss: 0.000, reg_loss: 0.000), lr: 0.001\n",
      "epoch: 5200, acc: 0.976, loss: 0.000 (data_loss: 0.000, reg_loss: 0.000), lr: 0.001\n",
      "epoch: 5300, acc: 0.971, loss: 0.000 (data_loss: 0.000, reg_loss: 0.000), lr: 0.001\n",
      "epoch: 5400, acc: 0.977, loss: 0.000 (data_loss: 0.000, reg_loss: 0.000), lr: 0.001\n",
      "epoch: 5500, acc: 0.978, loss: 0.000 (data_loss: 0.000, reg_loss: 0.000), lr: 0.001\n",
      "epoch: 5600, acc: 0.975, loss: 0.000 (data_loss: 0.000, reg_loss: 0.000), lr: 0.001\n",
      "epoch: 5700, acc: 0.979, loss: 0.000 (data_loss: 0.000, reg_loss: 0.000), lr: 0.001\n",
      "epoch: 5800, acc: 0.126, loss: 0.000 (data_loss: 0.000, reg_loss: 0.000), lr: 0.001\n",
      "epoch: 5900, acc: 0.978, loss: 0.000 (data_loss: 0.000, reg_loss: 0.000), lr: 0.001\n",
      "epoch: 6000, acc: 0.978, loss: 0.000 (data_loss: 0.000, reg_loss: 0.000), lr: 0.001\n",
      "epoch: 6100, acc: 0.980, loss: 0.000 (data_loss: 0.000, reg_loss: 0.000), lr: 0.001\n",
      "epoch: 6200, acc: 0.980, loss: 0.000 (data_loss: 0.000, reg_loss: 0.000), lr: 0.001\n",
      "epoch: 6300, acc: 0.978, loss: 0.000 (data_loss: 0.000, reg_loss: 0.000), lr: 0.001\n",
      "epoch: 6400, acc: 0.979, loss: 0.000 (data_loss: 0.000, reg_loss: 0.000), lr: 0.001\n",
      "epoch: 6500, acc: 0.981, loss: 0.000 (data_loss: 0.000, reg_loss: 0.000), lr: 0.001\n",
      "epoch: 6600, acc: 0.113, loss: 0.000 (data_loss: 0.000, reg_loss: 0.000), lr: 0.001\n",
      "epoch: 6700, acc: 0.982, loss: 0.000 (data_loss: 0.000, reg_loss: 0.000), lr: 0.001\n",
      "epoch: 6800, acc: 0.980, loss: 0.000 (data_loss: 0.000, reg_loss: 0.000), lr: 0.001\n",
      "epoch: 6900, acc: 0.674, loss: 0.000 (data_loss: 0.000, reg_loss: 0.000), lr: 0.001\n",
      "epoch: 7000, acc: 0.981, loss: 0.000 (data_loss: 0.000, reg_loss: 0.000), lr: 0.001\n",
      "epoch: 7100, acc: 0.983, loss: 0.000 (data_loss: 0.000, reg_loss: 0.000), lr: 0.001\n",
      "epoch: 7200, acc: 0.983, loss: 0.000 (data_loss: 0.000, reg_loss: 0.000), lr: 0.001\n",
      "epoch: 7300, acc: 0.982, loss: 0.000 (data_loss: 0.000, reg_loss: 0.000), lr: 0.001\n",
      "epoch: 7400, acc: 0.983, loss: 0.000 (data_loss: 0.000, reg_loss: 0.000), lr: 0.001\n",
      "epoch: 7500, acc: 0.259, loss: 0.000 (data_loss: 0.000, reg_loss: 0.000), lr: 0.001\n",
      "epoch: 7600, acc: 0.983, loss: 0.000 (data_loss: 0.000, reg_loss: 0.000), lr: 0.001\n",
      "epoch: 7700, acc: 0.983, loss: 0.000 (data_loss: 0.000, reg_loss: 0.000), lr: 0.001\n",
      "epoch: 7800, acc: 0.977, loss: 0.000 (data_loss: 0.000, reg_loss: 0.000), lr: 0.001\n",
      "epoch: 7900, acc: 0.984, loss: 0.000 (data_loss: 0.000, reg_loss: 0.000), lr: 0.001\n",
      "epoch: 8000, acc: 0.976, loss: 0.000 (data_loss: 0.000, reg_loss: 0.000), lr: 0.001\n",
      "epoch: 8100, acc: 0.984, loss: 0.000 (data_loss: 0.000, reg_loss: 0.000), lr: 0.001\n",
      "epoch: 8200, acc: 0.984, loss: 0.000 (data_loss: 0.000, reg_loss: 0.000), lr: 0.001\n",
      "epoch: 8300, acc: 0.960, loss: 0.000 (data_loss: 0.000, reg_loss: 0.000), lr: 0.001\n",
      "epoch: 8400, acc: 0.983, loss: 0.000 (data_loss: 0.000, reg_loss: 0.000), lr: 0.001\n",
      "epoch: 8500, acc: 0.984, loss: 0.000 (data_loss: 0.000, reg_loss: 0.000), lr: 0.001\n",
      "epoch: 8600, acc: 0.980, loss: 0.000 (data_loss: 0.000, reg_loss: 0.000), lr: 0.001\n",
      "epoch: 8700, acc: 0.985, loss: 0.000 (data_loss: 0.000, reg_loss: 0.000), lr: 0.001\n",
      "epoch: 8800, acc: 0.988, loss: 0.000 (data_loss: 0.000, reg_loss: 0.000), lr: 0.001\n",
      "epoch: 8900, acc: 0.981, loss: 0.000 (data_loss: 0.000, reg_loss: 0.000), lr: 0.001\n",
      "epoch: 9000, acc: 0.985, loss: 0.000 (data_loss: 0.000, reg_loss: 0.000), lr: 0.001\n",
      "epoch: 9100, acc: 0.985, loss: 0.000 (data_loss: 0.000, reg_loss: 0.000), lr: 0.001\n",
      "epoch: 9200, acc: 0.985, loss: 0.000 (data_loss: 0.000, reg_loss: 0.000), lr: 0.001\n",
      "epoch: 9300, acc: 0.654, loss: 0.000 (data_loss: 0.000, reg_loss: 0.000), lr: 0.001\n",
      "epoch: 9400, acc: 0.985, loss: 0.000 (data_loss: 0.000, reg_loss: 0.000), lr: 0.001\n",
      "epoch: 9500, acc: 0.985, loss: 0.000 (data_loss: 0.000, reg_loss: 0.000), lr: 0.001\n",
      "epoch: 9600, acc: 0.986, loss: 0.000 (data_loss: 0.000, reg_loss: 0.000), lr: 0.001\n",
      "epoch: 9700, acc: 0.987, loss: 0.000 (data_loss: 0.000, reg_loss: 0.000), lr: 0.001\n",
      "epoch: 9800, acc: 0.986, loss: 0.000 (data_loss: 0.000, reg_loss: 0.000), lr: 0.001\n",
      "epoch: 9900, acc: 0.986, loss: 0.000 (data_loss: 0.000, reg_loss: 0.000), lr: 0.001\n",
      "epoch: 10000, acc: 0.982, loss: 0.000 (data_loss: 0.000, reg_loss: 0.000), lr: 0.001\n"
     ]
    }
   ],
   "source": [
    "X, y = sine_data()\n",
    "\n",
    "dense1 = Layer_Dense(1, 64)\n",
    "\n",
    "activation1 = Activation_ReLU()\n",
    "\n",
    "dense2 = Layer_Dense(64, 64)\n",
    "\n",
    "activation2 = Activation_ReLU()\n",
    "\n",
    "dense3 = Layer_Dense(64, 1)\n",
    "\n",
    "activation3 = Activation_Linear()\n",
    "\n",
    "loss_function = Loss_MeanSquaredError()\n",
    "\n",
    "optimizer = Optimizer_Adam()\n",
    "\n",
    "accuracy_precision = np.std(y) / 250\n",
    "\n",
    "for epoch in range(10001): \n",
    "\n",
    "    dense1.forward(X) \n",
    "    activation1.forward(dense1.output)\n",
    "    dense2.forward(activation1.output)\n",
    "    activation2.forward(dense2.output)\n",
    "    dense3.forward(activation2.output)\n",
    "    activation3.forward(dense3.output)\n",
    "\n",
    "    data_loss = loss_function.calculate(activation3.output, y)\n",
    "\n",
    "    regularization_loss = loss_function.regularization_loss(dense1) + loss_function.regularization_loss(dense2) + loss_function.regularization_loss(dense3)\n",
    "\n",
    "    loss = data_loss + regularization_loss\n",
    "\n",
    "    predictions = activation3.output\n",
    "\n",
    "    accuracy = np.mean(np.absolute(predictions - y) < accuracy_precision)\n",
    " \n",
    "    if epoch % 100 == 0: \n",
    "        print(f'epoch: {epoch}, ' + \n",
    "              f'acc: {accuracy:.3f}, ' + \n",
    "              f'loss: {loss:.3f} (' + \n",
    "              f'data_loss: {data_loss:.3f}, ' +\n",
    "              f'reg_loss: {regularization_loss:.3f}), ' + \n",
    "              f'lr: {optimizer.current_learning_rate}')\n",
    " \n",
    "    loss_function.backward(activation3.output, y) \n",
    "    activation3.backward(loss_function.dinputs) \n",
    "    dense3.backward(activation3.dinputs) \n",
    "    activation2.backward(dense3.dinputs) \n",
    "    dense2.backward(activation2.dinputs) \n",
    "    activation1.backward(dense2.dinputs) \n",
    "    dense1.backward(activation1.dinputs)  \n",
    "  \n",
    "    optimizer.pre_update_params()\n",
    "    optimizer.update_params(dense1) \n",
    "    optimizer.update_params(dense2)\n",
    "    optimizer.update_params(dense3)\n",
    "    optimizer.post_update_params()"
   ]
  },
  {
   "cell_type": "markdown",
   "metadata": {},
   "source": [
    "Model Testing"
   ]
  },
  {
   "cell_type": "code",
   "execution_count": 46,
   "metadata": {},
   "outputs": [
    {
     "data": {
      "image/png": "[encoded data removed]",
      "text/plain": [
       "<Figure size 640x480 with 1 Axes>"
      ]
     },
     "metadata": {},
     "output_type": "display_data"
    }
   ],
   "source": [
    "X_test, y_test = sine_data()\n",
    "\n",
    "dense1.forward(X_test) \n",
    "activation1.forward(dense1.output) \n",
    "dense2.forward(activation1.output) \n",
    "activation2.forward(dense2.output) \n",
    "\n",
    "plt.plot(X_test, y_test) \n",
    "plt.plot(X_test, activation3.output) \n",
    "plt.show() "
   ]
  }
 ],
 "metadata": {
  "kernelspec": {
   "display_name": "Python 3",
   "language": "python",
   "name": "python3"
  },
  "language_info": {
   "codemirror_mode": {
    "name": "ipython",
    "version": 3
   },
   "file_extension": ".py",
   "mimetype": "text/x-python",
   "name": "python",
   "nbconvert_exporter": "python",
   "pygments_lexer": "ipython3",
   "version": "3.10.11"
  }
 },
 "nbformat": 4,
 "nbformat_minor": 2
}
