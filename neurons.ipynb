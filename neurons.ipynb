{
 "cells": [
  {
   "cell_type": "markdown",
   "metadata": {},
   "source": [
    "# Neural Network Learning"
   ]
  },
  {
   "cell_type": "markdown",
   "metadata": {},
   "source": [
    "Initial imports"
   ]
  },
  {
   "cell_type": "code",
   "execution_count": 222,
   "metadata": {},
   "outputs": [],
   "source": [
    "import numpy as np\n",
    "import nnfs\n",
    "import matplotlib.pyplot as plt\n",
    "from nnfs.datasets import spiral_data\n",
    "from nnfs.datasets import sine_data\n",
    "nnfs.init()"
   ]
  },
  {
   "cell_type": "markdown",
   "metadata": {},
   "source": [
    "Neural network layer class"
   ]
  },
  {
   "cell_type": "code",
   "execution_count": 223,
   "metadata": {},
   "outputs": [],
   "source": [
    "class Layer_Dense:\n",
    "    \n",
    "    # Neuron initialization\n",
    "    def __init__(self, n_inputs, n_neurons, weight_regularizer_l1 = 0, weight_regularizer_l2 = 0, bias_regularizer_l1 = 0, bias_regularizer_l2 = 0):\n",
    "        # Initialize weights and biases\n",
    "        self.weights = 0.01 * np.random.randn(n_inputs, n_neurons)\n",
    "        self.biases = np.zeros((1, n_neurons))\n",
    "        # Set regularization strength / Lambda hyperperameters for penalties\n",
    "        self.weight_regularizer_l1 = weight_regularizer_l1 \n",
    "        self.weight_regularizer_l2 = weight_regularizer_l2 \n",
    "        self.bias_regularizer_l1 = bias_regularizer_l1 \n",
    "        self.bias_regularizer_l2 = bias_regularizer_l2 \n",
    "\n",
    "    # Neuron forward pass for calculations\n",
    "    def forward(self, inputs):\n",
    "        self.inputs = inputs\n",
    "        self.output = np.dot(inputs, self.weights) + self.biases\n",
    "\n",
    "    # Backward pass for derivative backpropagation\n",
    "    def backward(self, dvalues):\n",
    "        self.dweights = np.dot(self.inputs.T, dvalues)\n",
    "        self.dbiases = np.sum(dvalues, axis=0, keepdims=True)\n",
    "\n",
    "        # Gradients on regularization\n",
    "        # L1 on weights\n",
    "        if self.weight_regularizer_l1 > 0:\n",
    "            dL1 = np.ones_like(self.weights)\n",
    "            dL1[self.weights < 0] = -1\n",
    "            self.dweights += self.weight_regularizer_l1 * dL1\n",
    "        # L2 on weights\n",
    "        if self.weight_regularizer_l2 > 0:\n",
    "            self.dweights += 2 * self.weight_regularizer_l2 * self.weights\n",
    "        # L1 on biases\n",
    "        if self.bias_regularizer_l1 > 0:\n",
    "            dL1 = np.ones_like(self.biases)\n",
    "            dL1[self.biases < 0] = -1\n",
    "            self.dbiases += self.bias_regularizer_l1 * dL1\n",
    "        # L2 on biases\n",
    "        if self.bias_regularizer_l2 > 0:\n",
    "            self.dbiases += 2 * self.bias_regularizer_l2 * self.biases\n",
    "        \n",
    "        # Gradient on values\n",
    "        self.dinputs = np.dot(dvalues, self.weights.T)"
   ]
  },
  {
   "cell_type": "markdown",
   "metadata": {},
   "source": [
    "Rectified Linear Unit (ReLU) activation function"
   ]
  },
  {
   "cell_type": "code",
   "execution_count": 224,
   "metadata": {},
   "outputs": [],
   "source": [
    "class Activation_ReLU:\n",
    "    \n",
    "    # Forward pass for output calculations\n",
    "    def forward(self, inputs):\n",
    "        self.inputs = inputs\n",
    "        self.output = np.maximum(0, inputs)\n",
    "\n",
    "    # Backward pass for derivative backpropagation\n",
    "    def backward(self, dvalues):\n",
    "        self.dinputs = dvalues.copy()\n",
    "        self.dinputs[self.inputs <= 0] = 0\n",
    "\n",
    "    def predictions(self, outputs):\n",
    "        return outputs"
   ]
  },
  {
   "cell_type": "markdown",
   "metadata": {},
   "source": [
    "Softmax Activation function"
   ]
  },
  {
   "cell_type": "code",
   "execution_count": 225,
   "metadata": {},
   "outputs": [],
   "source": [
    "class Activation_Softmax:\n",
    "    \n",
    "    # Forward pass for output\n",
    "    def forward(self, inputs):\n",
    "        exp_values = np.exp(inputs - np.max(inputs, axis=1, keepdims=True))\n",
    "        probabilities = exp_values / np.sum(exp_values, axis=1, keepdims=True)\n",
    "        self.output = probabilities\n",
    "\n",
    "    # Backward pass for derivative backpropagation\n",
    "    def backward(self, dvalues):\n",
    "        self.dinputs = np.empty_like(dvalues)\n",
    "\n",
    "        for index, (single_output, single_dvalues) in enumerate(zip(self.output, dvalues)):\n",
    "            single_output = single_output.reshape(-1, 1)\n",
    "            jacobian_matrix = np.diagflat(single_output) - np.dot(single_output, single_output.T)\n",
    "            self.dinputs[index] = np.dot(jacobian_matrix, single_dvalues)\n",
    "\n",
    "    def predictions(self, outputs):\n",
    "        return (outputs > 0.5) * 1"
   ]
  },
  {
   "cell_type": "markdown",
   "metadata": {},
   "source": [
    "Sigmoid Activation function"
   ]
  },
  {
   "cell_type": "code",
   "execution_count": 226,
   "metadata": {},
   "outputs": [],
   "source": [
    "class Activation_Sigmoid:\n",
    "\n",
    "    def forward(self, inputs):\n",
    "        self.inputs = inputs\n",
    "        self.output = 1 / (1 + np.exp(-inputs))\n",
    "\n",
    "    def backward(self, dvalues):\n",
    "        self.dinputs = dvalues * (1 - self.output) * self.output\n",
    "\n",
    "    def predictions(self, outputs):\n",
    "        return (outputs > 0.5) * 1"
   ]
  },
  {
   "cell_type": "markdown",
   "metadata": {},
   "source": [
    "Linear Activation function"
   ]
  },
  {
   "cell_type": "code",
   "execution_count": 227,
   "metadata": {},
   "outputs": [],
   "source": [
    "class Activation_Linear:\n",
    "\n",
    "    def forward(self, inputs):\n",
    "        self.inputs = inputs\n",
    "        self.output = inputs\n",
    "\n",
    "    def backward(self, dvalues):\n",
    "        self.dinputs = dvalues.copy()\n",
    "\n",
    "    def predictions(self, outputs):\n",
    "        return outputs"
   ]
  },
  {
   "cell_type": "markdown",
   "metadata": {},
   "source": [
    "Loss parent class"
   ]
  },
  {
   "cell_type": "code",
   "execution_count": 228,
   "metadata": {},
   "outputs": [],
   "source": [
    "class Loss:\n",
    "    \n",
    "\n",
    "    def regularization_loss(self):\n",
    "        regularization_loss = 0\n",
    "\n",
    "        for layer in self.trainable_layers: \n",
    " \n",
    "            # L1 regularization - weights \n",
    "            # calculate only when factor greater than 0 \n",
    "            if layer.weight_regularizer_l1 > 0: \n",
    "                regularization_loss += layer.weight_regularizer_l1 * np.sum(np.abs(layer.weights)) \n",
    " \n",
    "            # L2 regularization - weights \n",
    "            if layer.weight_regularizer_l2 > 0: \n",
    "                regularization_loss += layer.weight_regularizer_l2 * np.sum(layer.weights * layer.weights) \n",
    " \n",
    "            # L1 regularization - biases \n",
    "            # calculate only when factor greater than 0 \n",
    "            if layer.bias_regularizer_l1 > 0: \n",
    "                regularization_loss += layer.bias_regularizer_l1 * np.sum(np.abs(layer.biases)) \n",
    " \n",
    "            # L2 regularization - biases \n",
    "            if layer.bias_regularizer_l2 > 0: \n",
    "                regularization_loss += layer.bias_regularizer_l2 * np.sum(layer.biases * layer.biases) \n",
    " \n",
    "        return regularization_loss\n",
    "    \n",
    "\n",
    "    def remember_trainable_layers(self, trainable_layers):\n",
    "        self.trainable_layers = trainable_layers\n",
    "\n",
    "\n",
    "    def calculate(self, output, y, *, include_regularization=False):\n",
    "        sample_losses = self.forward(output, y)\n",
    "        data_loss = np.mean(sample_losses)\n",
    "\n",
    "        if not include_regularization:\n",
    "            return data_loss\n",
    "        \n",
    "        return data_loss, self.regularization_loss()\n",
    "    "
   ]
  },
  {
   "cell_type": "markdown",
   "metadata": {},
   "source": [
    "Cross Entropy Loss function"
   ]
  },
  {
   "cell_type": "code",
   "execution_count": 229,
   "metadata": {},
   "outputs": [],
   "source": [
    "class Loss_CategorialCrossentropy(Loss):\n",
    "\n",
    "    # Forward pass for loss calculation output\n",
    "    def forward(self, y_pred, y_true):\n",
    "        samples = len(y_pred)\n",
    "        y_pred_clipped = np.clip(y_pred, 1e-7, 1 - 1e-7)\n",
    "        \n",
    "        if len(y_true.shape) == 1:\n",
    "            correct_confidences = y_pred_clipped[range(samples), y_true]\n",
    "        elif len(y_true.shape) == 2:\n",
    "            correct_confidences = np.sum(y_pred_clipped * y_true, axis = 1)\n",
    "        \n",
    "        negative_log_likelihoods = -np.log(correct_confidences)\n",
    "        return negative_log_likelihoods\n",
    "    \n",
    "    # Backward pass for derivative backpropagation\n",
    "    def backward(self, dvalues, y_true):\n",
    "        samples = len(dvalues)\n",
    "        labels = len(dvalues[0])\n",
    "\n",
    "        if len(y_true.shape) == 1:\n",
    "            y_true = np.eye(labels)[y_true]\n",
    "        \n",
    "        self.dinputs = -y_true / dvalues\n",
    "        self.dinputs = self.dinputs / samples"
   ]
  },
  {
   "cell_type": "markdown",
   "metadata": {},
   "source": [
    "Combined softmax activation and cross entropy loss for faster backward step"
   ]
  },
  {
   "cell_type": "code",
   "execution_count": 230,
   "metadata": {},
   "outputs": [],
   "source": [
    "class Activation_Softmax_Loss_CategorialCrossentropy():\n",
    "\n",
    "\n",
    "    def __init__(self):\n",
    "        self.activation = Activation_Softmax()\n",
    "        self.loss = Loss_CategorialCrossentropy()\n",
    "\n",
    "    \n",
    "    def forward(self, inputs, y_true):\n",
    "        self.activation.forward(inputs)\n",
    "        self.output = self.activation.output\n",
    "        return self.loss.calculate(self.output, y_true)\n",
    "    \n",
    "\n",
    "    def backward(self, dvalues, y_true):\n",
    "        samples = len(dvalues)\n",
    "\n",
    "        if len(y_true.shape) == 2:\n",
    "            y_true = np.argmax(y_true, axis=1)\n",
    "        \n",
    "        self.dinputs = dvalues.copy()\n",
    "        self.dinputs[range(samples), y_true] -= 1\n",
    "        self.dinputs = self.dinputs / samples"
   ]
  },
  {
   "cell_type": "markdown",
   "metadata": {},
   "source": [
    "Binary Cross-Entropy Loss Class"
   ]
  },
  {
   "cell_type": "code",
   "execution_count": 231,
   "metadata": {},
   "outputs": [],
   "source": [
    "class Loss_BinaryCrossentropy(Loss):\n",
    "\n",
    "    def forward(self, y_pred, y_true):\n",
    "        y_pred_clipped = np.clip(y_pred, 1e-7, 1 - 1e-7)\n",
    "        sample_losses = -(y_true * np.log(y_pred_clipped) + (1 - y_true) * np.log(1 - y_pred_clipped))\n",
    "        sample_losses = np.mean(sample_losses, axis=-1)\n",
    "        return sample_losses\n",
    "    \n",
    "    def backward(self, dvalues, y_true):\n",
    "        samples = len(dvalues)\n",
    "        outputs = len(dvalues[0])\n",
    "        clipped_dvalues = np.clip(dvalues, 1e-7, 1 - 1e-7)\n",
    "        self.dinputs = -(y_true / clipped_dvalues - (1 - y_true) / (1 - clipped_dvalues)) / outputs\n",
    "        self.dinputs = self.dinputs / samples"
   ]
  },
  {
   "cell_type": "markdown",
   "metadata": {},
   "source": [
    "Mean Squared Error Loss Class"
   ]
  },
  {
   "cell_type": "code",
   "execution_count": 232,
   "metadata": {},
   "outputs": [],
   "source": [
    "class Loss_MeanSquaredError(Loss):\n",
    "\n",
    "    def forward(self, y_pred, y_true):\n",
    "        sample_losses = np.mean((y_true - y_pred) ** 2, axis = -1)\n",
    "        return sample_losses\n",
    "    \n",
    "    def backward(self, dvalues, y_true):\n",
    "        samples = len(dvalues)\n",
    "        outputs = len(dvalues[0])\n",
    "        self.dinputs = -2 * (y_true - dvalues) / outputs\n",
    "        self.dinputs = self.dinputs / samples"
   ]
  },
  {
   "cell_type": "markdown",
   "metadata": {},
   "source": [
    "Mean Absolute Error Loss"
   ]
  },
  {
   "cell_type": "code",
   "execution_count": 233,
   "metadata": {},
   "outputs": [],
   "source": [
    "class Loss_MeanAbsoluteError(Loss):\n",
    "\n",
    "    def forward(self, y_pred, y_true):\n",
    "        sample_losses = np.mean(np.abs(y_true - y_pred), axis = -1)\n",
    "        return sample_losses\n",
    "    \n",
    "    def backward(self, dvalues, y_true):\n",
    "        samples = len(dvalues)\n",
    "        outputs = len(dvalues[0])\n",
    "        self.dinputs = np.sign(y_true - dvalues) / outputs\n",
    "        self.dinputs = self.dinputs / samples"
   ]
  },
  {
   "cell_type": "markdown",
   "metadata": {},
   "source": [
    "Stochastic Gradient Descent with Momentum Optimizer Class"
   ]
  },
  {
   "cell_type": "code",
   "execution_count": 234,
   "metadata": {},
   "outputs": [],
   "source": [
    "class Optimizer_SGD:\n",
    "\n",
    "    # Gradient descent optimizer initialization\n",
    "    def __init__(self, learning_rate = 1.0, decay = 0, momentum = 0):\n",
    "        self.learning_rate = learning_rate\n",
    "        self.current_learning_rate = learning_rate\n",
    "        self.decay = decay\n",
    "        self.iterations = 0\n",
    "        self.momentum = momentum\n",
    "\n",
    "    # Learning rate decay\n",
    "    def pre_update_params(self):\n",
    "        if self.decay:\n",
    "            self.current_learning_rate = self.learning_rate * (1 / (1 + self.decay * self.iterations))\n",
    "\n",
    "\n",
    "    # Parameter updater\n",
    "    def update_params(self, layer):\n",
    "        if self.momentum:\n",
    "\n",
    "            if not hasattr(layer, 'weight_momentums'):\n",
    "                layer.weight_momentums = np.zeros_like(layer.weights)\n",
    "                layer.bias_momentums = np.zeros_like(layer.biases)\n",
    "\n",
    "            weight_updates = self.momentum * layer.weight_momentums - self.current_learning_rate * layer.dweights\n",
    "            layer.weight_momentums = weight_updates\n",
    "\n",
    "            bias_updates = self.momentum * layer.bias_momentums - self.current_learning_rate * layer.dbiases\n",
    "            layer.bias_momentums = bias_updates\n",
    "        else:\n",
    "            weight_updates = -self.current_learning_rate * layer.dweights\n",
    "            bias_updates = -self.current_learning_rate * layer.dbiases\n",
    "\n",
    "        layer.weights += weight_updates\n",
    "        layer.biases += bias_updates\n",
    "\n",
    "    \n",
    "    def post_update_params(self):\n",
    "        self.iterations += 1"
   ]
  },
  {
   "cell_type": "markdown",
   "metadata": {},
   "source": [
    "Adagrad Optimizer Class"
   ]
  },
  {
   "cell_type": "code",
   "execution_count": 235,
   "metadata": {},
   "outputs": [],
   "source": [
    "class Optimizer_Adagrad:\n",
    "\n",
    "\n",
    "    def __init__(self, learning_rate = 1, decay = 0, epsilon = 1e-7):\n",
    "        self.learning_rate = learning_rate\n",
    "        self.current_learning_rate = learning_rate\n",
    "        self.decay = decay\n",
    "        self.iterations = 0\n",
    "        self.epsilon = epsilon\n",
    "\n",
    "    \n",
    "    def pre_update_params(self):\n",
    "        if self.decay:\n",
    "            self.current_learning_rate = self.learning_rate * (1 / (1 + self.decay * self.iterations))\n",
    "\n",
    "\n",
    "    def update_params(self, layer):\n",
    "        if not hasattr(layer, 'weight_cache'):\n",
    "            layer.weight_cache = np.zeros_like(layer.weights)\n",
    "            layer.bias_cache = np.zeros_like(layer.biases)\n",
    "\n",
    "        layer.weight_cache += layer.dweights ** 2\n",
    "\n",
    "        layer.bias_cache += layer.dbiases ** 2\n",
    "\n",
    "        layer.weights += -self.current_learning_rate * layer.dweights / (np.sqrt(layer.weight_cache) + self.epsilon)\n",
    "\n",
    "        layer.biases += -self.current_learning_rate * layer.dbiases / (np.sqrt(layer.bias_cache) + self.epsilon)\n",
    "\n",
    "    \n",
    "    def post_update_params(self):\n",
    "        self.iterations += 1"
   ]
  },
  {
   "cell_type": "markdown",
   "metadata": {},
   "source": [
    "RMSProp Optimizer Class"
   ]
  },
  {
   "cell_type": "code",
   "execution_count": 236,
   "metadata": {},
   "outputs": [],
   "source": [
    "class Optimizer_RMSprop:\n",
    "\n",
    "\n",
    "    def __init__(self, learning_rate = 0.001, decay = 0, epsilon = 1e-7, rho = 0.9):\n",
    "        self.learning_rate = learning_rate\n",
    "        self.current_learning_rate = learning_rate\n",
    "        self.decay = decay\n",
    "        self.iterations = 0\n",
    "        self.epsilon = epsilon\n",
    "        self.rho = rho\n",
    "\n",
    "\n",
    "    def pre_update_params(self):\n",
    "        if self.decay:\n",
    "            self.current_learning_rate = self.learning_rate * (1 / (1 + self.decay * self.iterations))\n",
    "\n",
    "\n",
    "    def update_params(self, layer):\n",
    "        if not hasattr(layer, 'weight_cache'):\n",
    "            layer.weight_cache = np.zeros_like(layer.weights)\n",
    "            layer.bias_cache = np.zeros_like(layer.biases)\n",
    "\n",
    "        layer.weight_cache = self.rho * layer.weight_cache + (1 - self.rho) * layer.dweights ** 2\n",
    "        layer.bias_cache = self.rho * layer.bias_cache + (1 - self.rho) * layer.dbiases ** 2\n",
    "\n",
    "        layer.weights += -self.current_learning_rate *  layer.dweights / (np.sqrt(layer.weight_cache) + self.epsilon) \n",
    "        layer.biases += -self.current_learning_rate *  layer.dbiases /  (np.sqrt(layer.bias_cache) + self.epsilon) \n",
    "\n",
    "    \n",
    "    def post_update_params(self):\n",
    "        self.iterations += 1"
   ]
  },
  {
   "cell_type": "markdown",
   "metadata": {},
   "source": [
    "Adam (Adaptive Momentum) Optimizer Class"
   ]
  },
  {
   "cell_type": "code",
   "execution_count": 237,
   "metadata": {},
   "outputs": [],
   "source": [
    "class Optimizer_Adam:\n",
    "\n",
    "\n",
    "    def __init__(self, learning_rate = 0.001, decay = 0, epsilon = 1e-7, beta_1 = 0.9, beta_2 = 0.999):\n",
    "        self.learning_rate = learning_rate \n",
    "        self.current_learning_rate = learning_rate \n",
    "        self.decay = decay \n",
    "        self.iterations = 0 \n",
    "        self.epsilon = epsilon \n",
    "        self.beta_1 = beta_1 \n",
    "        self.beta_2 = beta_2 \n",
    "\n",
    "\n",
    "    def pre_update_params(self):\n",
    "        if self.decay:\n",
    "            self.current_learning_rate = self.learning_rate * (1 / (1 + self.decay * self.iterations))\n",
    "\n",
    "    \n",
    "    def update_params(self, layer):\n",
    "        if not hasattr(layer, 'weight_cache'):\n",
    "            layer.weight_momentums = np.zeros_like(layer.weights)\n",
    "            layer.weight_cache = np.zeros_like(layer.weights)\n",
    "            layer.bias_momentums = np.zeros_like(layer.biases)\n",
    "            layer.bias_cache = np.zeros_like(layer.biases)\n",
    "\n",
    "        layer.weight_momentums = self.beta_1 * layer.weight_momentums + (1 - self.beta_1) * layer.dweights\n",
    "        layer.bias_momentums = self.beta_1 * layer.bias_momentums + (1 - self.beta_1) * layer.dbiases\n",
    "\n",
    "        weight_momentums_corrected = layer.weight_momentums / (1 - self.beta_1 ** (self.iterations + 1))\n",
    "        bias_momentums_corrected = layer.bias_momentums / (1 - self.beta_1 ** (self.iterations + 1))\n",
    "\n",
    "        layer.weight_cache = self.beta_2 * layer.weight_cache + (1 - self.beta_2) * layer.dweights ** 2\n",
    "        layer.bias_cache = self.beta_2 * layer.bias_cache + (1 - self.beta_2) * layer.dbiases ** 2\n",
    "\n",
    "        weight_cache_corrected = layer.weight_cache / (1 - self.beta_2 ** (self.iterations + 1))\n",
    "        bias_cache_corrected = layer.bias_cache / (1 - self.beta_2 ** (self.iterations + 1))\n",
    "\n",
    "        layer.weights += -self.current_learning_rate * weight_momentums_corrected / (np.sqrt(weight_cache_corrected) + self.epsilon)\n",
    "        layer.biases += -self.current_learning_rate * bias_momentums_corrected / (np.sqrt(bias_cache_corrected) + self.epsilon)\n",
    "\n",
    "\n",
    "    def post_update_params(self):\n",
    "        self.iterations += 1"
   ]
  },
  {
   "cell_type": "markdown",
   "metadata": {},
   "source": [
    "Dropout Layer"
   ]
  },
  {
   "cell_type": "code",
   "execution_count": 259,
   "metadata": {},
   "outputs": [],
   "source": [
    "class Layer_Dropout:\n",
    "    \n",
    "    def __init__(self, rate):\n",
    "        self.rate = 1 - rate\n",
    "\n",
    "    def forward(self, inputs, training):\n",
    "        self.inputs = inputs\n",
    "\n",
    "        if not training:\n",
    "            self.output = inputs.copy()\n",
    "            return \n",
    "        \n",
    "        self.binary_mask = np.random.binomial(1, self.rate, size=inputs.shape) / self.rate\n",
    "        self.output = inputs * self.binary_mask\n",
    "\n",
    "    def backward(self, dvalues):\n",
    "        self.dinputs = dvalues * self.binary_mask"
   ]
  },
  {
   "cell_type": "markdown",
   "metadata": {},
   "source": [
    "Accuracy Calculation Parent Class"
   ]
  },
  {
   "cell_type": "code",
   "execution_count": 239,
   "metadata": {},
   "outputs": [],
   "source": [
    "class Accuracy:\n",
    "\n",
    "    def calculate(self, predictions, y):\n",
    "        comparisons = self.compare(predictions, y)\n",
    "        accuracy = np.mean(comparisons)\n",
    "        return accuracy"
   ]
  },
  {
   "cell_type": "markdown",
   "metadata": {},
   "source": [
    "Accuracy calculation for regression"
   ]
  },
  {
   "cell_type": "code",
   "execution_count": 240,
   "metadata": {},
   "outputs": [],
   "source": [
    "class Accuracy_Regression(Accuracy):\n",
    "\n",
    "    def __init__(self):\n",
    "        self.precision = None\n",
    "\n",
    "    \n",
    "    def init(self, y, reinit = False):\n",
    "        if self.precision is None or reinit:\n",
    "            self.precision = np.std(y) / 250\n",
    "\n",
    "    \n",
    "    def compare(self, predictions, y):\n",
    "        return np.absolute(predictions - y) < self.precision"
   ]
  },
  {
   "cell_type": "markdown",
   "metadata": {},
   "source": [
    "Accuracy calculation for classification"
   ]
  },
  {
   "cell_type": "code",
   "execution_count": 241,
   "metadata": {},
   "outputs": [],
   "source": [
    "class Accuracy_Categorical(Accuracy):\n",
    "\n",
    "    def init(self, y):\n",
    "        pass\n",
    "\n",
    "\n",
    "    def compare(self, predictions, y):\n",
    "        if len(y.shape) == 2:\n",
    "            y = np.argmax(y, axis = 1)\n",
    "        return predictions == y"
   ]
  },
  {
   "cell_type": "markdown",
   "metadata": {},
   "source": [
    "Input Layer Class"
   ]
  },
  {
   "cell_type": "code",
   "execution_count": 242,
   "metadata": {},
   "outputs": [],
   "source": [
    "class Layer_Input:\n",
    "\n",
    "    def forward(self, inputs):\n",
    "        self.output = inputs"
   ]
  },
  {
   "cell_type": "markdown",
   "metadata": {},
   "source": [
    "Neural Network Model Object Class"
   ]
  },
  {
   "cell_type": "code",
   "execution_count": 243,
   "metadata": {},
   "outputs": [],
   "source": [
    "class Model:\n",
    "\n",
    "    # Model initializer\n",
    "    def __init__(self):\n",
    "        self.layers = []\n",
    "\n",
    "    # Adds layers\n",
    "    def add(self, layer):\n",
    "        self.layers.append(layer)\n",
    "\n",
    "    # Sets the loss and optimizer functions and parameters\n",
    "    def set(self, *, loss, optimizer, accuracy):\n",
    "        self.loss = loss\n",
    "        self.optimizer = optimizer\n",
    "        self.accuracy = accuracy\n",
    "\n",
    "    # Pieces the layers together\n",
    "    def finalize(self):\n",
    "        self.input_layer = Layer_Input()\n",
    "\n",
    "        layer_count = len(self.layers)\n",
    "        \n",
    "        self.trainable_layers = []\n",
    "\n",
    "        for i in range(layer_count):\n",
    "\n",
    "            # First layer, previous object is input layer\n",
    "            if i == 0:\n",
    "                self.layers[i].prev = self.input_layer\n",
    "                self.layers[i].next = self.layers[i+1]\n",
    "\n",
    "            # Connecting all deep layers\n",
    "            elif i < layer_count - 1:\n",
    "                self.layers[i].prev = self.layers[i - 1]\n",
    "                self.layers[i].next = self.layers[i + 1]\n",
    "\n",
    "            # Last layer, next object is the loss\n",
    "            else:\n",
    "                self.layers[i].prev = self.layers[i - 1]\n",
    "                self.layers[i].next = self.loss\n",
    "                self.output_layer_activation = self.layers[i]\n",
    "\n",
    "            # If layer contains weights add it to trainable layers\n",
    "            if hasattr(self.layers[i], 'weights'):\n",
    "                self.trainable_layers.append(self.layers[i])\n",
    "\n",
    "        self.loss.remember_trainable_layers(self.trainable_layers)\n",
    "\n",
    "    # Forward pass\n",
    "    def forward(self, X):\n",
    "        self.input_layer.forward(X)\n",
    "\n",
    "        for layer in self.layers:\n",
    "            layer.forward(layer.prev.output)\n",
    "\n",
    "        return layer.output\n",
    "    \n",
    "    # Backward pass\n",
    "    def backward(self, output, y):\n",
    "        self.loss.backward(output, y)\n",
    "\n",
    "        for layer in reversed(self.layers):\n",
    "            layer.backward(layer.next.dinputs)\n",
    "\n",
    "    # Trains the model\n",
    "    def train(self, X, y, *, epochs=1, print_every=1, validation_data=None):\n",
    "        self.accuracy.init(y)\n",
    "\n",
    "        for epoch in range(1, epochs+1):\n",
    "            output = self.forward(X)\n",
    "            \n",
    "            data_loss, regularization_loss = self.loss.calculate(output, y, include_regularization=True)\n",
    "            loss = data_loss + regularization_loss\n",
    "\n",
    "            predictions = self.output_layer_activation.predictions(output)\n",
    "            accuracy = self.accuracy.calculate(predictions, y)\n",
    "\n",
    "            self.backward(output, y)\n",
    "\n",
    "            self.optimizer.pre_update_params()\n",
    "            for layer in self.trainable_layers:\n",
    "                self.optimizer.update_params(layer)\n",
    "            self.optimizer.post_update_params()\n",
    "\n",
    "            if not epoch % print_every:\n",
    "                print(f'epoch: {epoch}, ' + \n",
    "                      f'acc: {accuracy:.3f}, ' + \n",
    "                      f'loss: {loss:.3f} (' +\n",
    "                      f'data_loss: {data_loss:.3f}, ' +\n",
    "                      f'reg_loss: {regularization_loss:.3f}), ' +\n",
    "                      f'lr: {self.optimizer.current_learning_rate}')\n",
    "                \n",
    "        if validation_data is not None:\n",
    "\n",
    "            X_val, y_val = validation_data\n",
    "\n",
    "            output = self.forward(X_val)\n",
    "\n",
    "            loss = self.loss.calculate(output, y_val)\n",
    "\n",
    "            predictions = self.output_layer_activation.predictions(output)\n",
    "\n",
    "            accuracy = self.accuracy.calculate(predictions, y_val)\n",
    "\n",
    "            print(f'validation, ' +\n",
    "                  f'acc: {accuracy:.3f}, ' +\n",
    "                  f'loss: {loss:.3f}')"
   ]
  },
  {
   "cell_type": "markdown",
   "metadata": {},
   "source": [
    "<center>============ RUN ALL CELLS BEFORE THIS LINE FIRST ============</center>"
   ]
  },
  {
   "cell_type": "markdown",
   "metadata": {},
   "source": [
    "Model Training"
   ]
  },
  {
   "cell_type": "code",
   "execution_count": 258,
   "metadata": {},
   "outputs": [
    {
     "name": "stdout",
     "output_type": "stream",
     "text": [
      "epoch: 100, acc: 0.555, loss: 0.668 (data_loss: 0.667, reg_loss: 0.001), lr: 0.0009999505024501287\n",
      "epoch: 200, acc: 0.520, loss: 0.666 (data_loss: 0.665, reg_loss: 0.001), lr: 0.0009999005098992651\n",
      "epoch: 300, acc: 0.490, loss: 0.665 (data_loss: 0.664, reg_loss: 0.001), lr: 0.000999850522346909\n",
      "epoch: 400, acc: 0.470, loss: 0.664 (data_loss: 0.663, reg_loss: 0.001), lr: 0.0009998005397923115\n",
      "epoch: 500, acc: 0.445, loss: 0.663 (data_loss: 0.662, reg_loss: 0.001), lr: 0.0009997505622347225\n",
      "epoch: 600, acc: 0.440, loss: 0.661 (data_loss: 0.659, reg_loss: 0.002), lr: 0.0009997005896733929\n",
      "epoch: 700, acc: 0.440, loss: 0.658 (data_loss: 0.656, reg_loss: 0.002), lr: 0.0009996506221075735\n",
      "epoch: 800, acc: 0.450, loss: 0.655 (data_loss: 0.653, reg_loss: 0.003), lr: 0.000999600659536515\n",
      "epoch: 900, acc: 0.460, loss: 0.652 (data_loss: 0.649, reg_loss: 0.004), lr: 0.0009995507019594694\n",
      "epoch: 1000, acc: 0.475, loss: 0.649 (data_loss: 0.645, reg_loss: 0.004), lr: 0.000999500749375687\n",
      "epoch: 1100, acc: 0.485, loss: 0.644 (data_loss: 0.639, reg_loss: 0.005), lr: 0.0009994508017844195\n",
      "epoch: 1200, acc: 0.495, loss: 0.638 (data_loss: 0.632, reg_loss: 0.007), lr: 0.0009994008591849186\n",
      "epoch: 1300, acc: 0.475, loss: 0.632 (data_loss: 0.624, reg_loss: 0.008), lr: 0.0009993509215764362\n",
      "epoch: 1400, acc: 0.485, loss: 0.626 (data_loss: 0.617, reg_loss: 0.009), lr: 0.0009993009889582235\n",
      "epoch: 1500, acc: 0.485, loss: 0.620 (data_loss: 0.610, reg_loss: 0.010), lr: 0.0009992510613295335\n",
      "epoch: 1600, acc: 0.460, loss: 0.614 (data_loss: 0.602, reg_loss: 0.012), lr: 0.0009992011386896176\n",
      "epoch: 1700, acc: 0.440, loss: 0.606 (data_loss: 0.592, reg_loss: 0.013), lr: 0.0009991512210377285\n",
      "epoch: 1800, acc: 0.425, loss: 0.598 (data_loss: 0.583, reg_loss: 0.015), lr: 0.0009991013083731183\n",
      "epoch: 1900, acc: 0.450, loss: 0.590 (data_loss: 0.573, reg_loss: 0.017), lr: 0.0009990514006950402\n",
      "epoch: 2000, acc: 0.445, loss: 0.583 (data_loss: 0.565, reg_loss: 0.019), lr: 0.0009990014980027463\n",
      "epoch: 2100, acc: 0.455, loss: 0.577 (data_loss: 0.556, reg_loss: 0.021), lr: 0.0009989516002954898\n",
      "epoch: 2200, acc: 0.475, loss: 0.570 (data_loss: 0.548, reg_loss: 0.022), lr: 0.000998901707572524\n",
      "epoch: 2300, acc: 0.475, loss: 0.564 (data_loss: 0.540, reg_loss: 0.024), lr: 0.0009988518198331018\n",
      "epoch: 2400, acc: 0.470, loss: 0.559 (data_loss: 0.533, reg_loss: 0.026), lr: 0.0009988019370764769\n",
      "epoch: 2500, acc: 0.490, loss: 0.553 (data_loss: 0.526, reg_loss: 0.027), lr: 0.0009987520593019025\n",
      "epoch: 2600, acc: 0.490, loss: 0.548 (data_loss: 0.519, reg_loss: 0.029), lr: 0.000998702186508632\n",
      "epoch: 2700, acc: 0.500, loss: 0.543 (data_loss: 0.513, reg_loss: 0.030), lr: 0.00099865231869592\n",
      "epoch: 2800, acc: 0.490, loss: 0.539 (data_loss: 0.507, reg_loss: 0.032), lr: 0.0009986024558630198\n",
      "epoch: 2900, acc: 0.485, loss: 0.534 (data_loss: 0.501, reg_loss: 0.033), lr: 0.0009985525980091856\n",
      "epoch: 3000, acc: 0.490, loss: 0.530 (data_loss: 0.496, reg_loss: 0.034), lr: 0.000998502745133672\n",
      "epoch: 3100, acc: 0.495, loss: 0.527 (data_loss: 0.491, reg_loss: 0.035), lr: 0.0009984528972357331\n",
      "epoch: 3200, acc: 0.485, loss: 0.523 (data_loss: 0.487, reg_loss: 0.036), lr: 0.0009984030543146237\n",
      "epoch: 3300, acc: 0.480, loss: 0.520 (data_loss: 0.483, reg_loss: 0.037), lr: 0.0009983532163695982\n",
      "epoch: 3400, acc: 0.475, loss: 0.516 (data_loss: 0.478, reg_loss: 0.038), lr: 0.000998303383399912\n",
      "epoch: 3500, acc: 0.475, loss: 0.513 (data_loss: 0.475, reg_loss: 0.039), lr: 0.0009982535554048193\n",
      "epoch: 3600, acc: 0.470, loss: 0.511 (data_loss: 0.471, reg_loss: 0.039), lr: 0.000998203732383576\n",
      "epoch: 3700, acc: 0.460, loss: 0.508 (data_loss: 0.468, reg_loss: 0.040), lr: 0.0009981539143354365\n",
      "epoch: 3800, acc: 0.465, loss: 0.505 (data_loss: 0.465, reg_loss: 0.041), lr: 0.0009981041012596574\n",
      "epoch: 3900, acc: 0.465, loss: 0.503 (data_loss: 0.462, reg_loss: 0.041), lr: 0.0009980542931554933\n",
      "epoch: 4000, acc: 0.470, loss: 0.501 (data_loss: 0.459, reg_loss: 0.042), lr: 0.0009980044900222008\n",
      "epoch: 4100, acc: 0.470, loss: 0.498 (data_loss: 0.456, reg_loss: 0.042), lr: 0.0009979546918590348\n",
      "epoch: 4200, acc: 0.470, loss: 0.496 (data_loss: 0.454, reg_loss: 0.043), lr: 0.0009979048986652524\n",
      "epoch: 4300, acc: 0.470, loss: 0.494 (data_loss: 0.451, reg_loss: 0.043), lr: 0.000997855110440109\n",
      "epoch: 4400, acc: 0.470, loss: 0.492 (data_loss: 0.449, reg_loss: 0.043), lr: 0.0009978053271828614\n",
      "epoch: 4500, acc: 0.475, loss: 0.491 (data_loss: 0.447, reg_loss: 0.044), lr: 0.0009977555488927658\n",
      "epoch: 4600, acc: 0.475, loss: 0.489 (data_loss: 0.445, reg_loss: 0.044), lr: 0.000997705775569079\n",
      "epoch: 4700, acc: 0.475, loss: 0.487 (data_loss: 0.443, reg_loss: 0.044), lr: 0.0009976560072110577\n",
      "epoch: 4800, acc: 0.475, loss: 0.485 (data_loss: 0.441, reg_loss: 0.044), lr: 0.0009976062438179587\n",
      "epoch: 4900, acc: 0.475, loss: 0.484 (data_loss: 0.439, reg_loss: 0.045), lr: 0.0009975564853890394\n",
      "epoch: 5000, acc: 0.475, loss: 0.482 (data_loss: 0.438, reg_loss: 0.045), lr: 0.000997506731923557\n",
      "epoch: 5100, acc: 0.475, loss: 0.481 (data_loss: 0.436, reg_loss: 0.045), lr: 0.0009974569834207687\n",
      "epoch: 5200, acc: 0.475, loss: 0.479 (data_loss: 0.434, reg_loss: 0.045), lr: 0.0009974072398799322\n",
      "epoch: 5300, acc: 0.475, loss: 0.478 (data_loss: 0.433, reg_loss: 0.045), lr: 0.0009973575013003048\n",
      "epoch: 5400, acc: 0.475, loss: 0.477 (data_loss: 0.432, reg_loss: 0.045), lr: 0.0009973077676811448\n",
      "epoch: 5500, acc: 0.475, loss: 0.475 (data_loss: 0.430, reg_loss: 0.045), lr: 0.00099725803902171\n",
      "epoch: 5600, acc: 0.475, loss: 0.474 (data_loss: 0.429, reg_loss: 0.045), lr: 0.0009972083153212581\n",
      "epoch: 5700, acc: 0.475, loss: 0.473 (data_loss: 0.428, reg_loss: 0.045), lr: 0.000997158596579048\n",
      "epoch: 5800, acc: 0.475, loss: 0.472 (data_loss: 0.427, reg_loss: 0.045), lr: 0.0009971088827943377\n",
      "epoch: 5900, acc: 0.475, loss: 0.470 (data_loss: 0.426, reg_loss: 0.045), lr: 0.0009970591739663862\n",
      "epoch: 6000, acc: 0.475, loss: 0.469 (data_loss: 0.425, reg_loss: 0.045), lr: 0.0009970094700944517\n",
      "epoch: 6100, acc: 0.475, loss: 0.468 (data_loss: 0.424, reg_loss: 0.045), lr: 0.0009969597711777935\n",
      "epoch: 6200, acc: 0.475, loss: 0.467 (data_loss: 0.423, reg_loss: 0.045), lr: 0.00099691007721567\n",
      "epoch: 6300, acc: 0.475, loss: 0.466 (data_loss: 0.422, reg_loss: 0.044), lr: 0.000996860388207341\n",
      "epoch: 6400, acc: 0.475, loss: 0.465 (data_loss: 0.421, reg_loss: 0.044), lr: 0.0009968107041520655\n",
      "epoch: 6500, acc: 0.485, loss: 0.459 (data_loss: 0.414, reg_loss: 0.045), lr: 0.000996761025049103\n",
      "epoch: 6600, acc: 0.500, loss: 0.455 (data_loss: 0.409, reg_loss: 0.046), lr: 0.000996711350897713\n",
      "epoch: 6700, acc: 0.495, loss: 0.453 (data_loss: 0.407, reg_loss: 0.046), lr: 0.0009966616816971556\n",
      "epoch: 6800, acc: 0.495, loss: 0.451 (data_loss: 0.405, reg_loss: 0.046), lr: 0.00099661201744669\n",
      "epoch: 6900, acc: 0.495, loss: 0.450 (data_loss: 0.404, reg_loss: 0.046), lr: 0.0009965623581455767\n",
      "epoch: 7000, acc: 0.500, loss: 0.449 (data_loss: 0.403, reg_loss: 0.046), lr: 0.000996512703793076\n",
      "epoch: 7100, acc: 0.500, loss: 0.448 (data_loss: 0.402, reg_loss: 0.046), lr: 0.0009964630543884481\n",
      "epoch: 7200, acc: 0.500, loss: 0.447 (data_loss: 0.402, reg_loss: 0.045), lr: 0.0009964134099309536\n",
      "epoch: 7300, acc: 0.500, loss: 0.446 (data_loss: 0.401, reg_loss: 0.045), lr: 0.0009963637704198528\n",
      "epoch: 7400, acc: 0.500, loss: 0.445 (data_loss: 0.400, reg_loss: 0.045), lr: 0.0009963141358544066\n",
      "epoch: 7500, acc: 0.500, loss: 0.444 (data_loss: 0.399, reg_loss: 0.045), lr: 0.000996264506233876\n",
      "epoch: 7600, acc: 0.500, loss: 0.443 (data_loss: 0.399, reg_loss: 0.045), lr: 0.0009962148815575223\n",
      "epoch: 7700, acc: 0.500, loss: 0.442 (data_loss: 0.398, reg_loss: 0.044), lr: 0.000996165261824606\n",
      "epoch: 7800, acc: 0.500, loss: 0.442 (data_loss: 0.398, reg_loss: 0.044), lr: 0.0009961156470343895\n",
      "epoch: 7900, acc: 0.500, loss: 0.441 (data_loss: 0.397, reg_loss: 0.044), lr: 0.0009960660371861334\n",
      "epoch: 8000, acc: 0.500, loss: 0.440 (data_loss: 0.396, reg_loss: 0.043), lr: 0.0009960164322790998\n",
      "epoch: 8100, acc: 0.500, loss: 0.439 (data_loss: 0.396, reg_loss: 0.043), lr: 0.0009959668323125503\n",
      "epoch: 8200, acc: 0.500, loss: 0.438 (data_loss: 0.395, reg_loss: 0.043), lr: 0.000995917237285747\n",
      "epoch: 8300, acc: 0.500, loss: 0.437 (data_loss: 0.395, reg_loss: 0.043), lr: 0.000995867647197952\n",
      "epoch: 8400, acc: 0.495, loss: 0.437 (data_loss: 0.394, reg_loss: 0.042), lr: 0.0009958180620484277\n",
      "epoch: 8500, acc: 0.490, loss: 0.436 (data_loss: 0.394, reg_loss: 0.042), lr: 0.0009957684818364362\n",
      "epoch: 8600, acc: 0.495, loss: 0.435 (data_loss: 0.393, reg_loss: 0.042), lr: 0.0009957189065612402\n",
      "epoch: 8700, acc: 0.490, loss: 0.434 (data_loss: 0.393, reg_loss: 0.042), lr: 0.000995669336222102\n",
      "epoch: 8800, acc: 0.490, loss: 0.434 (data_loss: 0.392, reg_loss: 0.041), lr: 0.000995619770818285\n",
      "epoch: 8900, acc: 0.490, loss: 0.433 (data_loss: 0.392, reg_loss: 0.041), lr: 0.0009955702103490519\n",
      "epoch: 9000, acc: 0.495, loss: 0.432 (data_loss: 0.392, reg_loss: 0.041), lr: 0.000995520654813666\n",
      "epoch: 9100, acc: 0.495, loss: 0.432 (data_loss: 0.391, reg_loss: 0.041), lr: 0.0009954711042113903\n",
      "epoch: 9200, acc: 0.490, loss: 0.431 (data_loss: 0.391, reg_loss: 0.040), lr: 0.0009954215585414883\n",
      "epoch: 9300, acc: 0.490, loss: 0.430 (data_loss: 0.390, reg_loss: 0.040), lr: 0.000995372017803224\n",
      "epoch: 9400, acc: 0.490, loss: 0.430 (data_loss: 0.390, reg_loss: 0.040), lr: 0.0009953224819958604\n",
      "epoch: 9500, acc: 0.490, loss: 0.429 (data_loss: 0.390, reg_loss: 0.039), lr: 0.000995272951118662\n",
      "epoch: 9600, acc: 0.500, loss: 0.429 (data_loss: 0.389, reg_loss: 0.039), lr: 0.0009952234251708924\n",
      "epoch: 9700, acc: 0.490, loss: 0.428 (data_loss: 0.389, reg_loss: 0.039), lr: 0.000995173904151816\n",
      "epoch: 9800, acc: 0.490, loss: 0.427 (data_loss: 0.389, reg_loss: 0.039), lr: 0.0009951243880606966\n",
      "epoch: 9900, acc: 0.485, loss: 0.427 (data_loss: 0.388, reg_loss: 0.038), lr: 0.0009950748768967994\n",
      "epoch: 10000, acc: 0.490, loss: 0.426 (data_loss: 0.388, reg_loss: 0.038), lr: 0.0009950253706593885\n",
      "validation, acc: 0.505, loss: 0.475\n"
     ]
    }
   ],
   "source": [
    "X, y = spiral_data(samples = 100, classes = 2)\n",
    "X_test, y_test = spiral_data(samples = 100, classes = 2)\n",
    "\n",
    "y = y.reshape(-1, 1)\n",
    "y_test = y_test.reshape(-1, 1)\n",
    "\n",
    "model = Model()\n",
    "\n",
    "model.add(Layer_Dense(2, 64, weight_regularizer_l2=5e-4, bias_regularizer_l2=5e-4))\n",
    "model.add(Activation_ReLU())\n",
    "model.add(Layer_Dense(64, 1))\n",
    "model.add(Activation_Sigmoid())\n",
    "\n",
    "model.set(loss=Loss_BinaryCrossentropy(), optimizer=Optimizer_Adam(decay=5e-7), accuracy=Accuracy_Categorical())\n",
    "\n",
    "model.finalize()\n",
    "\n",
    "model.train(X, y, validation_data=(X_test, y_test), epochs=10000, print_every=100)"
   ]
  },
  {
   "cell_type": "markdown",
   "metadata": {},
   "source": [
    "Model Testing"
   ]
  },
  {
   "cell_type": "code",
   "execution_count": 245,
   "metadata": {},
   "outputs": [
    {
     "ename": "NameError",
     "evalue": "name 'dense1' is not defined",
     "output_type": "error",
     "traceback": [
      "\u001b[1;31m---------------------------------------------------------------------------\u001b[0m",
      "\u001b[1;31mNameError\u001b[0m                                 Traceback (most recent call last)",
      "Cell \u001b[1;32mIn[245], line 3\u001b[0m\n\u001b[0;32m      1\u001b[0m X_test, y_test \u001b[38;5;241m=\u001b[39m sine_data()\n\u001b[1;32m----> 3\u001b[0m \u001b[43mdense1\u001b[49m\u001b[38;5;241m.\u001b[39mforward(X_test) \n\u001b[0;32m      4\u001b[0m activation1\u001b[38;5;241m.\u001b[39mforward(dense1\u001b[38;5;241m.\u001b[39moutput) \n\u001b[0;32m      5\u001b[0m dense2\u001b[38;5;241m.\u001b[39mforward(activation1\u001b[38;5;241m.\u001b[39moutput) \n",
      "\u001b[1;31mNameError\u001b[0m: name 'dense1' is not defined"
     ]
    }
   ],
   "source": [
    "X_test, y_test = sine_data()\n",
    "\n",
    "dense1.forward(X_test) \n",
    "activation1.forward(dense1.output) \n",
    "dense2.forward(activation1.output) \n",
    "activation2.forward(dense2.output) \n",
    "\n",
    "plt.plot(X_test, y_test) \n",
    "plt.plot(X_test, activation3.output) \n",
    "plt.show() "
   ]
  }
 ],
 "metadata": {
  "kernelspec": {
   "display_name": "Python 3",
   "language": "python",
   "name": "python3"
  },
  "language_info": {
   "codemirror_mode": {
    "name": "ipython",
    "version": 3
   },
   "file_extension": ".py",
   "mimetype": "text/x-python",
   "name": "python",
   "nbconvert_exporter": "python",
   "pygments_lexer": "ipython3",
   "version": "3.10.11"
  }
 },
 "nbformat": 4,
 "nbformat_minor": 2
}
