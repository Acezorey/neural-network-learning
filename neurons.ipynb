{
 "cells": [
  {
   "cell_type": "markdown",
   "metadata": {},
   "source": [
    "# Neural Network Learning"
   ]
  },
  {
   "cell_type": "markdown",
   "metadata": {},
   "source": [
    "Initial imports"
   ]
  },
  {
   "cell_type": "code",
   "execution_count": 57,
   "metadata": {},
   "outputs": [],
   "source": [
    "import numpy as np\n",
    "import nnfs\n",
    "import matplotlib.pyplot as plt\n",
    "from nnfs.datasets import spiral_data\n",
    "nnfs.init()"
   ]
  },
  {
   "cell_type": "markdown",
   "metadata": {},
   "source": [
    "Neural network layer class"
   ]
  },
  {
   "cell_type": "code",
   "execution_count": 58,
   "metadata": {},
   "outputs": [],
   "source": [
    "class Layer_Dense:\n",
    "    \n",
    "    # Neuron initialization\n",
    "    def __init__(self, n_inputs, n_neurons, weight_regularizer_l1 = 0, weight_regularizer_l2 = 0, bias_regularizer_l1 = 0, bias_regularizer_l2 = 0):\n",
    "        # Initialize weights and biases\n",
    "        self.weights = 0.01 * np.random.randn(n_inputs, n_neurons)\n",
    "        self.biases = np.zeros((1, n_neurons))\n",
    "        # Set regularization strength / Lambda hyperperameters for penalties\n",
    "        self.weight_regularizer_l1 = weight_regularizer_l1 \n",
    "        self.weight_regularizer_l2 = weight_regularizer_l2 \n",
    "        self.bias_regularizer_l1 = bias_regularizer_l1 \n",
    "        self.bias_regularizer_l2 = bias_regularizer_l2 \n",
    "\n",
    "    # Neuron forward pass for calculations\n",
    "    def forward(self, inputs):\n",
    "        self.inputs = inputs\n",
    "        self.output = np.dot(inputs, self.weights) + self.biases\n",
    "\n",
    "    # Backward pass for derivative backpropagation\n",
    "    def backward(self, dvalues):\n",
    "        self.dweights = np.dot(self.inputs.T, dvalues)\n",
    "        self.dbiases = np.sum(dvalues, axis=0, keepdims=True)\n",
    "\n",
    "        # Gradients on regularization\n",
    "        # L1 on weights\n",
    "        if self.weight_regularizer_l1 > 0:\n",
    "            dL1 = np.ones_like(self.weights)\n",
    "            dL1[self.weights < 0] = -1\n",
    "            self.dweights += self.weight_regularizer_l1 * dL1\n",
    "        # L2 on weights\n",
    "        if self.weight_regularizer_l2 > 0:\n",
    "            self.dweights += 2 * self.weight_regularizer_l2 * self.weights\n",
    "        # L1 on biases\n",
    "        if self.bias_regularizer_l1 > 0:\n",
    "            dL1 = np.ones_like(self.biases)\n",
    "            dL1[self.biases < 0] = -1\n",
    "            self.dbiases += self.bias_regularizer_l1 * dL1\n",
    "        # L2 on biases\n",
    "        if self.bias_regularizer_l2 > 0:\n",
    "            self.dbiases += 2 * self.bias_regularizer_l2 * self.biases\n",
    "        \n",
    "        # Gradient on values\n",
    "        self.dinputs = np.dot(dvalues, self.weights.T)"
   ]
  },
  {
   "cell_type": "markdown",
   "metadata": {},
   "source": [
    "Rectified Linear Unit (ReLU) activation function"
   ]
  },
  {
   "cell_type": "code",
   "execution_count": 59,
   "metadata": {},
   "outputs": [],
   "source": [
    "class Activation_ReLU:\n",
    "    \n",
    "    # Forward pass for output calculations\n",
    "    def forward(self, inputs):\n",
    "        self.inputs = inputs\n",
    "        self.output = np.maximum(0, inputs)\n",
    "\n",
    "    # Backward pass for derivative backpropagation\n",
    "    def backward(self, dvalues):\n",
    "        self.dinputs = dvalues.copy()\n",
    "        self.dinputs[self.inputs <= 0] = 0"
   ]
  },
  {
   "cell_type": "markdown",
   "metadata": {},
   "source": [
    "Softmax Activation function"
   ]
  },
  {
   "cell_type": "code",
   "execution_count": 60,
   "metadata": {},
   "outputs": [],
   "source": [
    "class Activation_Softmax:\n",
    "    \n",
    "    # Forward pass for output\n",
    "    def forward(self, inputs):\n",
    "        exp_values = np.exp(inputs - np.max(inputs, axis=1, keepdims=True))\n",
    "        probabilities = exp_values / np.sum(exp_values, axis=1, keepdims=True)\n",
    "        self.output = probabilities\n",
    "\n",
    "    # Backward pass for derivative backpropagation\n",
    "    def backward(self, dvalues):\n",
    "        self.dinputs = np.empty_like(dvalues)\n",
    "\n",
    "        for index, (single_output, single_dvalues) in enumerate(zip(self.output, dvalues)):\n",
    "            single_output = single_output.reshape(-1, 1)\n",
    "            jacobian_matrix = np.diagflat(single_output) - np.dot(single_output, single_output.T)\n",
    "            self.dinputs[index] = np.dot(jacobian_matrix, single_dvalues)"
   ]
  },
  {
   "cell_type": "markdown",
   "metadata": {},
   "source": [
    "Sigmoid Activation function"
   ]
  },
  {
   "cell_type": "code",
   "execution_count": 61,
   "metadata": {},
   "outputs": [],
   "source": [
    "class Activation_Sigmoid:\n",
    "\n",
    "    def forward(self, inputs):\n",
    "        self.inputs = inputs\n",
    "        self.output = 1 / (1 + np.exp(-inputs))\n",
    "\n",
    "    def backward(self, dvalues):\n",
    "        self.dinputs = dvalues * (1 - self.output) * self.output"
   ]
  },
  {
   "cell_type": "markdown",
   "metadata": {},
   "source": [
    "Loss parent class"
   ]
  },
  {
   "cell_type": "code",
   "execution_count": 62,
   "metadata": {},
   "outputs": [],
   "source": [
    "class Loss:\n",
    "    \n",
    "    # Regularization loss calculation\n",
    "    def regularization_loss(self, layer):\n",
    "        regularization_loss = 0\n",
    "\n",
    "        if layer.weight_regularizer_l1 > 0:\n",
    "            regularization_loss += layer.weight_regularizer_l1 * np.sum(np.abs(layer.weights))\n",
    "        if layer.weight_regularizer_l2 > 0:\n",
    "            regularization_loss += layer.weight_regularizer_l2 * np.sum(layer.weights * layer.weights)\n",
    "\n",
    "        if layer.bias_regularizer_l1 > 0:\n",
    "            regularization_loss += layer.bias_regularizer_l1 * np.sum(np.abs(layer.biases))\n",
    "        if layer.bias_regularizer_l2 > 0:\n",
    "            regularization_loss += layer.bias_regularizer_l2 * np.sum(layer.biases * layer.biases)\n",
    "\n",
    "        return regularization_loss\n",
    "\n",
    "    def calculate(self, output, y):\n",
    "        sample_losses = self.forward(output, y)\n",
    "        data_loss = np.mean(sample_losses)\n",
    "        return data_loss"
   ]
  },
  {
   "cell_type": "markdown",
   "metadata": {},
   "source": [
    "Loss calculation function"
   ]
  },
  {
   "cell_type": "code",
   "execution_count": 63,
   "metadata": {},
   "outputs": [],
   "source": [
    "class Loss_CategorialCrossentropy(Loss):\n",
    "\n",
    "    # Forward pass for loss calculation output\n",
    "    def forward(self, y_pred, y_true):\n",
    "        samples = len(y_pred)\n",
    "        y_pred_clipped = np.clip(y_pred, 1e-7, 1 - 1e-7)\n",
    "        \n",
    "        if len(y_true.shape) == 1:\n",
    "            correct_confidences = y_pred_clipped[range(samples), y_true]\n",
    "        elif len(y_true.shape) == 2:\n",
    "            correct_confidences = np.sum(y_pred_clipped * y_true, axis = 1)\n",
    "        \n",
    "        negative_log_likelihoods = -np.log(correct_confidences)\n",
    "        return negative_log_likelihoods\n",
    "    \n",
    "    # Backward pass for derivative backpropagation\n",
    "    def backward(self, dvalues, y_true):\n",
    "        samples = len(dvalues)\n",
    "        labels = len(dvalues[0])\n",
    "\n",
    "        if len(y_true.shape) == 1:\n",
    "            y_true = np.eye(labels)[y_true]\n",
    "        \n",
    "        self.dinputs = -y_true / dvalues\n",
    "        self.dinputs = self.dinputs / samples"
   ]
  },
  {
   "cell_type": "markdown",
   "metadata": {},
   "source": [
    "Combined softmax activation and cross entropy loss for faster backward step"
   ]
  },
  {
   "cell_type": "code",
   "execution_count": 64,
   "metadata": {},
   "outputs": [],
   "source": [
    "class Activation_Softmax_Loss_CategorialCrossentropy():\n",
    "\n",
    "\n",
    "    def __init__(self):\n",
    "        self.activation = Activation_Softmax()\n",
    "        self.loss = Loss_CategorialCrossentropy()\n",
    "\n",
    "    \n",
    "    def forward(self, inputs, y_true):\n",
    "        self.activation.forward(inputs)\n",
    "        self.output = self.activation.output\n",
    "        return self.loss.calculate(self.output, y_true)\n",
    "    \n",
    "\n",
    "    def backward(self, dvalues, y_true):\n",
    "        samples = len(dvalues)\n",
    "\n",
    "        if len(y_true.shape) == 2:\n",
    "            y_true = np.argmax(y_true, axis=1)\n",
    "        \n",
    "        self.dinputs = dvalues.copy()\n",
    "        self.dinputs[range(samples), y_true] -= 1\n",
    "        self.dinputs = self.dinputs / samples"
   ]
  },
  {
   "cell_type": "markdown",
   "metadata": {},
   "source": [
    "Binary Cross-Entropy Loss Class"
   ]
  },
  {
   "cell_type": "code",
   "execution_count": 65,
   "metadata": {},
   "outputs": [],
   "source": [
    "class Loss_BinaryCrossentropy(Loss):\n",
    "\n",
    "    def forward(self, y_pred, y_true):\n",
    "        y_pred_clipped = np.clip(y_pred, 1e-7, 1 - 1e-7)\n",
    "        sample_losses = -(y_true * np.log(y_pred_clipped) + (1 - y_true) * np.log(1 - y_pred_clipped))\n",
    "        sample_losses = np.mean(sample_losses, axis=-1)\n",
    "        return sample_losses\n",
    "    \n",
    "    def backward(self, dvalues, y_true):\n",
    "        samples = len(dvalues)\n",
    "        outputs = len(dvalues[0])\n",
    "        clipped_dvalues = np.clip(dvalues, 1e-7, 1 - 1e-7)\n",
    "        self.dinputs = -(y_true / clipped_dvalues - (1 - y_true) / (1 - clipped_dvalues)) / outputs\n",
    "        self.dinputs = self.dinputs / samples"
   ]
  },
  {
   "cell_type": "markdown",
   "metadata": {},
   "source": [
    "Stochastic Gradient Descent with Momentum Optimizer Class"
   ]
  },
  {
   "cell_type": "code",
   "execution_count": 66,
   "metadata": {},
   "outputs": [],
   "source": [
    "class Optimizer_SGD:\n",
    "\n",
    "    # Gradient descent optimizer initialization\n",
    "    def __init__(self, learning_rate = 1.0, decay = 0, momentum = 0):\n",
    "        self.learning_rate = learning_rate\n",
    "        self.current_learning_rate = learning_rate\n",
    "        self.decay = decay\n",
    "        self.iterations = 0\n",
    "        self.momentum = momentum\n",
    "\n",
    "    # Learning rate decay\n",
    "    def pre_update_params(self):\n",
    "        if self.decay:\n",
    "            self.current_learning_rate = self.learning_rate * (1 / (1 + self.decay * self.iterations))\n",
    "\n",
    "\n",
    "    # Parameter updater\n",
    "    def update_params(self, layer):\n",
    "        if self.momentum:\n",
    "\n",
    "            if not hasattr(layer, 'weight_momentums'):\n",
    "                layer.weight_momentums = np.zeros_like(layer.weights)\n",
    "                layer.bias_momentums = np.zeros_like(layer.biases)\n",
    "\n",
    "            weight_updates = self.momentum * layer.weight_momentums - self.current_learning_rate * layer.dweights\n",
    "            layer.weight_momentums = weight_updates\n",
    "\n",
    "            bias_updates = self.momentum * layer.bias_momentums - self.current_learning_rate * layer.dbiases\n",
    "            layer.bias_momentums = bias_updates\n",
    "        else:\n",
    "            weight_updates = -self.current_learning_rate * layer.dweights\n",
    "            bias_updates = -self.current_learning_rate * layer.dbiases\n",
    "\n",
    "        layer.weights += weight_updates\n",
    "        layer.biases += bias_updates\n",
    "\n",
    "    \n",
    "    def post_update_params(self):\n",
    "        self.iterations += 1"
   ]
  },
  {
   "cell_type": "markdown",
   "metadata": {},
   "source": [
    "Adagrad Optimizer Class"
   ]
  },
  {
   "cell_type": "code",
   "execution_count": 67,
   "metadata": {},
   "outputs": [],
   "source": [
    "class Optimizer_Adagrad:\n",
    "\n",
    "\n",
    "    def __init__(self, learning_rate = 1, decay = 0, epsilon = 1e-7):\n",
    "        self.learning_rate = learning_rate\n",
    "        self.current_learning_rate = learning_rate\n",
    "        self.decay = decay\n",
    "        self.iterations = 0\n",
    "        self.epsilon = epsilon\n",
    "\n",
    "    \n",
    "    def pre_update_params(self):\n",
    "        if self.decay:\n",
    "            self.current_learning_rate = self.learning_rate * (1 / (1 + self.decay * self.iterations))\n",
    "\n",
    "\n",
    "    def update_params(self, layer):\n",
    "        if not hasattr(layer, 'weight_cache'):\n",
    "            layer.weight_cache = np.zeros_like(layer.weights)\n",
    "            layer.bias_cache = np.zeros_like(layer.biases)\n",
    "\n",
    "        layer.weight_cache += layer.dweights ** 2\n",
    "\n",
    "        layer.bias_cache += layer.dbiases ** 2\n",
    "\n",
    "        layer.weights += -self.current_learning_rate * layer.dweights / (np.sqrt(layer.weight_cache) + self.epsilon)\n",
    "\n",
    "        layer.biases += -self.current_learning_rate * layer.dbiases / (np.sqrt(layer.bias_cache) + self.epsilon)\n",
    "\n",
    "    \n",
    "    def post_update_params(self):\n",
    "        self.iterations += 1"
   ]
  },
  {
   "cell_type": "markdown",
   "metadata": {},
   "source": [
    "RMSProp Optimizer Class"
   ]
  },
  {
   "cell_type": "code",
   "execution_count": 68,
   "metadata": {},
   "outputs": [],
   "source": [
    "class Optimizer_RMSprop:\n",
    "\n",
    "\n",
    "    def __init__(self, learning_rate = 0.001, decay = 0, epsilon = 1e-7, rho = 0.9):\n",
    "        self.learning_rate = learning_rate\n",
    "        self.current_learning_rate = learning_rate\n",
    "        self.decay = decay\n",
    "        self.iterations = 0\n",
    "        self.epsilon = epsilon\n",
    "        self.rho = rho\n",
    "\n",
    "\n",
    "    def pre_update_params(self):\n",
    "        if self.decay:\n",
    "            self.current_learning_rate = self.learning_rate * (1 / (1 + self.decay * self.iterations))\n",
    "\n",
    "\n",
    "    def update_params(self, layer):\n",
    "        if not hasattr(layer, 'weight_cache'):\n",
    "            layer.weight_cache = np.zeros_like(layer.weights)\n",
    "            layer.bias_cache = np.zeros_like(layer.biases)\n",
    "\n",
    "        layer.weight_cache = self.rho * layer.weight_cache + (1 - self.rho) * layer.dweights ** 2\n",
    "        layer.bias_cache = self.rho * layer.bias_cache + (1 - self.rho) * layer.dbiases ** 2\n",
    "\n",
    "        layer.weights += -self.current_learning_rate *  layer.dweights / (np.sqrt(layer.weight_cache) + self.epsilon) \n",
    "        layer.biases += -self.current_learning_rate *  layer.dbiases /  (np.sqrt(layer.bias_cache) + self.epsilon) \n",
    "\n",
    "    \n",
    "    def post_update_params(self):\n",
    "        self.iterations += 1"
   ]
  },
  {
   "cell_type": "markdown",
   "metadata": {},
   "source": [
    "Adam (Adaptive Momentum) Optimizer Class"
   ]
  },
  {
   "cell_type": "code",
   "execution_count": 69,
   "metadata": {},
   "outputs": [],
   "source": [
    "class Optimizer_Adam:\n",
    "\n",
    "\n",
    "    def __init__(self, learning_rate = 0.001, decay = 0, epsilon = 1e-7, beta_1 = 0.9, beta_2 = 0.999):\n",
    "        self.learning_rate = learning_rate \n",
    "        self.current_learning_rate = learning_rate \n",
    "        self.decay = decay \n",
    "        self.iterations = 0 \n",
    "        self.epsilon = epsilon \n",
    "        self.beta_1 = beta_1 \n",
    "        self.beta_2 = beta_2 \n",
    "\n",
    "\n",
    "    def pre_update_params(self):\n",
    "        if self.decay:\n",
    "            self.current_learning_rate = self.learning_rate * (1 / (1 + self.decay * self.iterations))\n",
    "\n",
    "    \n",
    "    def update_params(self, layer):\n",
    "        if not hasattr(layer, 'weight_cache'):\n",
    "            layer.weight_momentums = np.zeros_like(layer.weights)\n",
    "            layer.weight_cache = np.zeros_like(layer.weights)\n",
    "            layer.bias_momentums = np.zeros_like(layer.biases)\n",
    "            layer.bias_cache = np.zeros_like(layer.biases)\n",
    "\n",
    "        layer.weight_momentums = self.beta_1 * layer.weight_momentums + (1 - self.beta_1) * layer.dweights\n",
    "        layer.bias_momentums = self.beta_1 * layer.bias_momentums + (1 - self.beta_1) * layer.dbiases\n",
    "\n",
    "        weight_momentums_corrected = layer.weight_momentums / (1 - self.beta_1 ** (self.iterations + 1))\n",
    "        bias_momentums_corrected = layer.bias_momentums / (1 - self.beta_1 ** (self.iterations + 1))\n",
    "\n",
    "        layer.weight_cache = self.beta_2 * layer.weight_cache + (1 - self.beta_2) * layer.dweights ** 2\n",
    "        layer.bias_cache = self.beta_2 * layer.bias_cache + (1 - self.beta_2) * layer.dbiases ** 2\n",
    "\n",
    "        weight_cache_corrected = layer.weight_cache / (1 - self.beta_2 ** (self.iterations + 1))\n",
    "        bias_cache_corrected = layer.bias_cache / (1 - self.beta_2 ** (self.iterations + 1))\n",
    "\n",
    "        layer.weights += -self.current_learning_rate * weight_momentums_corrected / (np.sqrt(weight_cache_corrected) + self.epsilon)\n",
    "        layer.biases += -self.current_learning_rate * bias_momentums_corrected / (np.sqrt(bias_cache_corrected) + self.epsilon)\n",
    "\n",
    "\n",
    "    def post_update_params(self):\n",
    "        self.iterations += 1"
   ]
  },
  {
   "cell_type": "markdown",
   "metadata": {},
   "source": [
    "Dropout Layer"
   ]
  },
  {
   "cell_type": "code",
   "execution_count": 70,
   "metadata": {},
   "outputs": [],
   "source": [
    "class Layer_Dropout:\n",
    "    \n",
    "    def __init__(self, rate):\n",
    "        self.rate = 1 - rate\n",
    "\n",
    "    def forward(self, inputs):\n",
    "        self.inputs = inputs\n",
    "        self.binary_mask = np.random.binomial(1, self.rate, size=inputs.shape) / self.rate\n",
    "        self.output = inputs * self.binary_mask\n",
    "\n",
    "    def backward(self, dvalues):\n",
    "        self.dinputs = dvalues * self.binary_mask"
   ]
  },
  {
   "cell_type": "markdown",
   "metadata": {},
   "source": [
    "Model Training"
   ]
  },
  {
   "cell_type": "code",
   "execution_count": 102,
   "metadata": {},
   "outputs": [
    {
     "name": "stdout",
     "output_type": "stream",
     "text": [
      "epoch: 0, acc: 0.425, loss: 0.693 (data_loss: 0.693, reg_loss: 0.000), lr: 0.001\n",
      "epoch: 100, acc: 0.605, loss: 0.668 (data_loss: 0.667, reg_loss: 0.001), lr: 0.0009999505024501287\n",
      "epoch: 200, acc: 0.610, loss: 0.665 (data_loss: 0.664, reg_loss: 0.001), lr: 0.0009999005098992651\n",
      "epoch: 300, acc: 0.610, loss: 0.663 (data_loss: 0.662, reg_loss: 0.001), lr: 0.000999850522346909\n",
      "epoch: 400, acc: 0.615, loss: 0.660 (data_loss: 0.658, reg_loss: 0.002), lr: 0.0009998005397923115\n",
      "epoch: 500, acc: 0.585, loss: 0.656 (data_loss: 0.653, reg_loss: 0.002), lr: 0.0009997505622347225\n",
      "epoch: 600, acc: 0.605, loss: 0.650 (data_loss: 0.647, reg_loss: 0.003), lr: 0.0009997005896733929\n",
      "epoch: 700, acc: 0.615, loss: 0.644 (data_loss: 0.639, reg_loss: 0.005), lr: 0.0009996506221075735\n",
      "epoch: 800, acc: 0.625, loss: 0.637 (data_loss: 0.630, reg_loss: 0.006), lr: 0.000999600659536515\n",
      "epoch: 900, acc: 0.630, loss: 0.628 (data_loss: 0.620, reg_loss: 0.008), lr: 0.0009995507019594694\n",
      "epoch: 1000, acc: 0.680, loss: 0.619 (data_loss: 0.609, reg_loss: 0.010), lr: 0.000999500749375687\n",
      "epoch: 1100, acc: 0.700, loss: 0.610 (data_loss: 0.597, reg_loss: 0.012), lr: 0.0009994508017844195\n",
      "epoch: 1200, acc: 0.705, loss: 0.597 (data_loss: 0.582, reg_loss: 0.015), lr: 0.0009994008591849186\n",
      "epoch: 1300, acc: 0.715, loss: 0.584 (data_loss: 0.565, reg_loss: 0.019), lr: 0.0009993509215764362\n",
      "epoch: 1400, acc: 0.725, loss: 0.570 (data_loss: 0.548, reg_loss: 0.023), lr: 0.0009993009889582235\n",
      "epoch: 1500, acc: 0.760, loss: 0.558 (data_loss: 0.532, reg_loss: 0.026), lr: 0.0009992510613295335\n",
      "epoch: 1600, acc: 0.780, loss: 0.546 (data_loss: 0.516, reg_loss: 0.030), lr: 0.0009992011386896176\n",
      "epoch: 1700, acc: 0.785, loss: 0.535 (data_loss: 0.501, reg_loss: 0.034), lr: 0.0009991512210377285\n",
      "epoch: 1800, acc: 0.790, loss: 0.523 (data_loss: 0.486, reg_loss: 0.037), lr: 0.0009991013083731183\n",
      "epoch: 1900, acc: 0.785, loss: 0.513 (data_loss: 0.473, reg_loss: 0.040), lr: 0.0009990514006950402\n",
      "epoch: 2000, acc: 0.785, loss: 0.504 (data_loss: 0.461, reg_loss: 0.043), lr: 0.0009990014980027463\n",
      "epoch: 2100, acc: 0.800, loss: 0.495 (data_loss: 0.450, reg_loss: 0.046), lr: 0.0009989516002954898\n",
      "epoch: 2200, acc: 0.825, loss: 0.487 (data_loss: 0.439, reg_loss: 0.048), lr: 0.000998901707572524\n",
      "epoch: 2300, acc: 0.820, loss: 0.479 (data_loss: 0.429, reg_loss: 0.050), lr: 0.0009988518198331018\n",
      "epoch: 2400, acc: 0.830, loss: 0.472 (data_loss: 0.420, reg_loss: 0.052), lr: 0.0009988019370764769\n",
      "epoch: 2500, acc: 0.855, loss: 0.464 (data_loss: 0.410, reg_loss: 0.054), lr: 0.0009987520593019025\n",
      "epoch: 2600, acc: 0.855, loss: 0.456 (data_loss: 0.401, reg_loss: 0.056), lr: 0.000998702186508632\n",
      "epoch: 2700, acc: 0.860, loss: 0.449 (data_loss: 0.392, reg_loss: 0.057), lr: 0.00099865231869592\n",
      "epoch: 2800, acc: 0.880, loss: 0.442 (data_loss: 0.383, reg_loss: 0.059), lr: 0.0009986024558630198\n",
      "epoch: 2900, acc: 0.885, loss: 0.436 (data_loss: 0.375, reg_loss: 0.060), lr: 0.0009985525980091856\n",
      "epoch: 3000, acc: 0.895, loss: 0.429 (data_loss: 0.368, reg_loss: 0.062), lr: 0.000998502745133672\n",
      "epoch: 3100, acc: 0.895, loss: 0.423 (data_loss: 0.360, reg_loss: 0.063), lr: 0.0009984528972357331\n",
      "epoch: 3200, acc: 0.905, loss: 0.418 (data_loss: 0.354, reg_loss: 0.064), lr: 0.0009984030543146237\n",
      "epoch: 3300, acc: 0.900, loss: 0.413 (data_loss: 0.347, reg_loss: 0.066), lr: 0.0009983532163695982\n",
      "epoch: 3400, acc: 0.900, loss: 0.408 (data_loss: 0.342, reg_loss: 0.067), lr: 0.000998303383399912\n",
      "epoch: 3500, acc: 0.900, loss: 0.404 (data_loss: 0.336, reg_loss: 0.068), lr: 0.0009982535554048193\n",
      "epoch: 3600, acc: 0.900, loss: 0.400 (data_loss: 0.331, reg_loss: 0.068), lr: 0.000998203732383576\n",
      "epoch: 3700, acc: 0.905, loss: 0.393 (data_loss: 0.324, reg_loss: 0.069), lr: 0.0009981539143354365\n",
      "epoch: 3800, acc: 0.910, loss: 0.388 (data_loss: 0.318, reg_loss: 0.070), lr: 0.0009981041012596574\n",
      "epoch: 3900, acc: 0.910, loss: 0.384 (data_loss: 0.313, reg_loss: 0.071), lr: 0.0009980542931554933\n",
      "epoch: 4000, acc: 0.910, loss: 0.380 (data_loss: 0.308, reg_loss: 0.072), lr: 0.0009980044900222008\n",
      "epoch: 4100, acc: 0.910, loss: 0.377 (data_loss: 0.304, reg_loss: 0.073), lr: 0.0009979546918590348\n",
      "epoch: 4200, acc: 0.910, loss: 0.373 (data_loss: 0.300, reg_loss: 0.073), lr: 0.0009979048986652524\n",
      "epoch: 4300, acc: 0.910, loss: 0.369 (data_loss: 0.295, reg_loss: 0.074), lr: 0.000997855110440109\n",
      "epoch: 4400, acc: 0.910, loss: 0.366 (data_loss: 0.291, reg_loss: 0.075), lr: 0.0009978053271828614\n",
      "epoch: 4500, acc: 0.905, loss: 0.361 (data_loss: 0.286, reg_loss: 0.075), lr: 0.0009977555488927658\n",
      "epoch: 4600, acc: 0.910, loss: 0.358 (data_loss: 0.282, reg_loss: 0.076), lr: 0.000997705775569079\n",
      "epoch: 4700, acc: 0.915, loss: 0.354 (data_loss: 0.278, reg_loss: 0.076), lr: 0.0009976560072110577\n",
      "epoch: 4800, acc: 0.920, loss: 0.351 (data_loss: 0.274, reg_loss: 0.076), lr: 0.0009976062438179587\n",
      "epoch: 4900, acc: 0.920, loss: 0.348 (data_loss: 0.271, reg_loss: 0.077), lr: 0.0009975564853890394\n",
      "epoch: 5000, acc: 0.920, loss: 0.344 (data_loss: 0.267, reg_loss: 0.077), lr: 0.000997506731923557\n",
      "epoch: 5100, acc: 0.920, loss: 0.341 (data_loss: 0.264, reg_loss: 0.078), lr: 0.0009974569834207687\n",
      "epoch: 5200, acc: 0.920, loss: 0.339 (data_loss: 0.261, reg_loss: 0.078), lr: 0.0009974072398799322\n",
      "epoch: 5300, acc: 0.920, loss: 0.336 (data_loss: 0.258, reg_loss: 0.078), lr: 0.0009973575013003048\n",
      "epoch: 5400, acc: 0.920, loss: 0.333 (data_loss: 0.255, reg_loss: 0.078), lr: 0.0009973077676811448\n",
      "epoch: 5500, acc: 0.925, loss: 0.330 (data_loss: 0.252, reg_loss: 0.078), lr: 0.00099725803902171\n",
      "epoch: 5600, acc: 0.930, loss: 0.328 (data_loss: 0.249, reg_loss: 0.078), lr: 0.0009972083153212581\n",
      "epoch: 5700, acc: 0.930, loss: 0.325 (data_loss: 0.247, reg_loss: 0.078), lr: 0.000997158596579048\n",
      "epoch: 5800, acc: 0.935, loss: 0.323 (data_loss: 0.244, reg_loss: 0.078), lr: 0.0009971088827943377\n",
      "epoch: 5900, acc: 0.940, loss: 0.320 (data_loss: 0.242, reg_loss: 0.078), lr: 0.0009970591739663862\n",
      "epoch: 6000, acc: 0.940, loss: 0.318 (data_loss: 0.239, reg_loss: 0.078), lr: 0.0009970094700944517\n",
      "epoch: 6100, acc: 0.940, loss: 0.315 (data_loss: 0.237, reg_loss: 0.078), lr: 0.0009969597711777935\n",
      "epoch: 6200, acc: 0.940, loss: 0.313 (data_loss: 0.235, reg_loss: 0.078), lr: 0.00099691007721567\n",
      "epoch: 6300, acc: 0.940, loss: 0.311 (data_loss: 0.232, reg_loss: 0.078), lr: 0.000996860388207341\n",
      "epoch: 6400, acc: 0.940, loss: 0.308 (data_loss: 0.230, reg_loss: 0.078), lr: 0.0009968107041520655\n",
      "epoch: 6500, acc: 0.940, loss: 0.306 (data_loss: 0.228, reg_loss: 0.078), lr: 0.000996761025049103\n",
      "epoch: 6600, acc: 0.940, loss: 0.304 (data_loss: 0.226, reg_loss: 0.078), lr: 0.000996711350897713\n",
      "epoch: 6700, acc: 0.945, loss: 0.302 (data_loss: 0.224, reg_loss: 0.078), lr: 0.0009966616816971556\n",
      "epoch: 6800, acc: 0.945, loss: 0.300 (data_loss: 0.222, reg_loss: 0.078), lr: 0.00099661201744669\n",
      "epoch: 6900, acc: 0.945, loss: 0.298 (data_loss: 0.220, reg_loss: 0.078), lr: 0.0009965623581455767\n",
      "epoch: 7000, acc: 0.945, loss: 0.296 (data_loss: 0.218, reg_loss: 0.078), lr: 0.000996512703793076\n",
      "epoch: 7100, acc: 0.945, loss: 0.294 (data_loss: 0.217, reg_loss: 0.077), lr: 0.0009964630543884481\n",
      "epoch: 7200, acc: 0.945, loss: 0.292 (data_loss: 0.215, reg_loss: 0.077), lr: 0.0009964134099309536\n",
      "epoch: 7300, acc: 0.950, loss: 0.290 (data_loss: 0.213, reg_loss: 0.077), lr: 0.0009963637704198528\n",
      "epoch: 7400, acc: 0.945, loss: 0.288 (data_loss: 0.211, reg_loss: 0.077), lr: 0.0009963141358544066\n",
      "epoch: 7500, acc: 0.950, loss: 0.286 (data_loss: 0.210, reg_loss: 0.077), lr: 0.000996264506233876\n",
      "epoch: 7600, acc: 0.950, loss: 0.284 (data_loss: 0.208, reg_loss: 0.077), lr: 0.0009962148815575223\n",
      "epoch: 7700, acc: 0.950, loss: 0.283 (data_loss: 0.206, reg_loss: 0.076), lr: 0.000996165261824606\n",
      "epoch: 7800, acc: 0.950, loss: 0.281 (data_loss: 0.205, reg_loss: 0.076), lr: 0.0009961156470343895\n",
      "epoch: 7900, acc: 0.950, loss: 0.279 (data_loss: 0.203, reg_loss: 0.076), lr: 0.0009960660371861334\n",
      "epoch: 8000, acc: 0.950, loss: 0.278 (data_loss: 0.202, reg_loss: 0.076), lr: 0.0009960164322790998\n",
      "epoch: 8100, acc: 0.950, loss: 0.276 (data_loss: 0.200, reg_loss: 0.076), lr: 0.0009959668323125503\n",
      "epoch: 8200, acc: 0.950, loss: 0.274 (data_loss: 0.199, reg_loss: 0.076), lr: 0.000995917237285747\n",
      "epoch: 8300, acc: 0.950, loss: 0.273 (data_loss: 0.197, reg_loss: 0.075), lr: 0.000995867647197952\n",
      "epoch: 8400, acc: 0.955, loss: 0.271 (data_loss: 0.196, reg_loss: 0.075), lr: 0.0009958180620484277\n",
      "epoch: 8500, acc: 0.955, loss: 0.269 (data_loss: 0.194, reg_loss: 0.075), lr: 0.0009957684818364362\n",
      "epoch: 8600, acc: 0.955, loss: 0.267 (data_loss: 0.193, reg_loss: 0.075), lr: 0.0009957189065612402\n",
      "epoch: 8700, acc: 0.955, loss: 0.266 (data_loss: 0.191, reg_loss: 0.075), lr: 0.000995669336222102\n",
      "epoch: 8800, acc: 0.955, loss: 0.264 (data_loss: 0.189, reg_loss: 0.075), lr: 0.000995619770818285\n",
      "epoch: 8900, acc: 0.955, loss: 0.263 (data_loss: 0.188, reg_loss: 0.075), lr: 0.0009955702103490519\n",
      "epoch: 9000, acc: 0.955, loss: 0.261 (data_loss: 0.186, reg_loss: 0.075), lr: 0.000995520654813666\n",
      "epoch: 9100, acc: 0.960, loss: 0.258 (data_loss: 0.183, reg_loss: 0.074), lr: 0.0009954711042113903\n",
      "epoch: 9200, acc: 0.965, loss: 0.254 (data_loss: 0.180, reg_loss: 0.074), lr: 0.0009954215585414883\n",
      "epoch: 9300, acc: 0.965, loss: 0.251 (data_loss: 0.177, reg_loss: 0.074), lr: 0.000995372017803224\n",
      "epoch: 9400, acc: 0.970, loss: 0.249 (data_loss: 0.174, reg_loss: 0.074), lr: 0.0009953224819958604\n",
      "epoch: 9500, acc: 0.975, loss: 0.246 (data_loss: 0.172, reg_loss: 0.074), lr: 0.000995272951118662\n",
      "epoch: 9600, acc: 0.970, loss: 0.244 (data_loss: 0.170, reg_loss: 0.074), lr: 0.0009952234251708924\n",
      "epoch: 9700, acc: 0.980, loss: 0.242 (data_loss: 0.168, reg_loss: 0.075), lr: 0.000995173904151816\n",
      "epoch: 9800, acc: 0.980, loss: 0.240 (data_loss: 0.166, reg_loss: 0.075), lr: 0.0009951243880606966\n",
      "epoch: 9900, acc: 0.980, loss: 0.237 (data_loss: 0.162, reg_loss: 0.075), lr: 0.0009950748768967994\n",
      "epoch: 10000, acc: 0.975, loss: 0.223 (data_loss: 0.148, reg_loss: 0.074), lr: 0.0009950253706593885\n"
     ]
    }
   ],
   "source": [
    "X, y = spiral_data(samples=100, classes=2)\n",
    "\n",
    "y = y.reshape(-1, 1)\n",
    "\n",
    "dense1 = Layer_Dense(2, 64, weight_regularizer_l2=5e-4, bias_regularizer_l2=5e-4)\n",
    "\n",
    "activation1 = Activation_ReLU()\n",
    "\n",
    "dense2 = Layer_Dense(64, 1)\n",
    "\n",
    "activation2 = Activation_Sigmoid()\n",
    "\n",
    "loss_function = Loss_BinaryCrossentropy()\n",
    "\n",
    "optimizer = Optimizer_Adam(decay=5e-7)\n",
    "\n",
    "for epoch in range(10001): \n",
    "\n",
    "    dense1.forward(X) \n",
    " \n",
    "    activation1.forward(dense1.output)\n",
    " \n",
    "    dense2.forward(activation1.output)\n",
    "\n",
    "    activation2.forward(dense2.output) \n",
    " \n",
    "    data_loss = loss_function.calculate(activation2.output, y)\n",
    "\n",
    "    regularization_loss = loss_function.regularization_loss(dense1) + loss_function.regularization_loss(dense2)\n",
    "\n",
    "    loss = data_loss + regularization_loss\n",
    " \n",
    "    predictions = (activation2.output > 0.5) * 1\n",
    "    accuracy = np.mean(predictions==y)\n",
    " \n",
    "    if epoch % 100 == 0: \n",
    "        print(f'epoch: {epoch}, ' + \n",
    "              f'acc: {accuracy:.3f}, ' + \n",
    "              f'loss: {loss:.3f} (' + \n",
    "              f'data_loss: {data_loss:.3f}, ' +\n",
    "              f'reg_loss: {regularization_loss:.3f}), ' + \n",
    "              f'lr: {optimizer.current_learning_rate}')\n",
    " \n",
    "    loss_function.backward(activation2.output, y) \n",
    "    activation2.backward(loss_function.dinputs) \n",
    "    dense2.backward(activation2.dinputs) \n",
    "    activation1.backward(dense2.dinputs) \n",
    "    dense1.backward(activation1.dinputs) \n",
    "  \n",
    "    optimizer.pre_update_params()\n",
    "    optimizer.update_params(dense1) \n",
    "    optimizer.update_params(dense2)\n",
    "    optimizer.post_update_params()"
   ]
  },
  {
   "cell_type": "markdown",
   "metadata": {},
   "source": [
    "Model Testing"
   ]
  },
  {
   "cell_type": "code",
   "execution_count": 125,
   "metadata": {},
   "outputs": [
    {
     "name": "stdout",
     "output_type": "stream",
     "text": [
      "validation, acc: 0.930, loss: 0.249\n"
     ]
    }
   ],
   "source": [
    "X_test, y_test = spiral_data(samples=100, classes=2)\n",
    "\n",
    "y_test = y_test.reshape(-1, 1)\n",
    "\n",
    "dense1.forward(X_test)\n",
    "\n",
    "activation1.forward(dense1.output)\n",
    "\n",
    "dense2.forward(activation1.output)\n",
    "\n",
    "activation2.forward(dense2.output)\n",
    "\n",
    "loss = loss_function.calculate(activation2.output, y_test)\n",
    "\n",
    "predictions = (activation2.output > 0.5) * 1\n",
    "\n",
    "accuracy = np.mean(predictions==y_test)\n",
    "\n",
    "print(f'validation, acc: {accuracy:.3f}, loss: {loss:.3f}')"
   ]
  }
 ],
 "metadata": {
  "kernelspec": {
   "display_name": "Python 3",
   "language": "python",
   "name": "python3"
  },
  "language_info": {
   "codemirror_mode": {
    "name": "ipython",
    "version": 3
   },
   "file_extension": ".py",
   "mimetype": "text/x-python",
   "name": "python",
   "nbconvert_exporter": "python",
   "pygments_lexer": "ipython3",
   "version": "3.10.11"
  }
 },
 "nbformat": 4,
 "nbformat_minor": 2
}
